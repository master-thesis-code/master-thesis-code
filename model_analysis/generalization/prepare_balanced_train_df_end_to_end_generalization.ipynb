{
 "cells": [
  {
   "cell_type": "code",
   "execution_count": null,
   "metadata": {
    "colab": {
     "base_uri": "https://localhost:8080/"
    },
    "executionInfo": {
     "elapsed": 17328,
     "status": "ok",
     "timestamp": 1667650603623,
     "user": {
      "displayName": "Igor Pidik",
      "userId": "12606022177661543582"
     },
     "user_tz": -60
    },
    "id": "W6qYM0DXBaMf",
    "outputId": "89c77aa2-4a81-41ba-aa3e-c5b5a128e995"
   },
   "outputs": [],
   "source": [
    "from google.colab import drive\n",
    "drive.mount('/content/drive')"
   ]
  },
  {
   "cell_type": "code",
   "execution_count": null,
   "metadata": {
    "id": "uRvRufKqm1V9"
   },
   "outputs": [],
   "source": [
    "import pandas as pd\n",
    "import numpy as np\n",
    "import seaborn as sns\n",
    "from tqdm import tqdm"
   ]
  },
  {
   "cell_type": "code",
   "execution_count": null,
   "metadata": {
    "id": "9GFEvLVKuLac"
   },
   "outputs": [],
   "source": [
    "train_df = pd.read_csv('/content/drive/MyDrive/master_thesis/generalization/data/train_df.csv')"
   ]
  },
  {
   "cell_type": "code",
   "execution_count": null,
   "metadata": {
    "id": "GRbLQRU5uXaI"
   },
   "outputs": [],
   "source": [
    "train_cases_ids = train_df['case_id'].unique()"
   ]
  },
  {
   "cell_type": "markdown",
   "metadata": {
    "id": "LKAnan1Hko4b"
   },
   "source": [
    "Pair associated papers with random irrelevant papers to create a balance df"
   ]
  },
  {
   "cell_type": "code",
   "execution_count": null,
   "metadata": {
    "id": "XH_-NDzInTnG"
   },
   "outputs": [],
   "source": [
    "data = []\n",
    "for case_id in tqdm(train_cases_ids):\n",
    "  case_papers = train_df[train_df['case_id'] == case_id]\n",
    "  case_associated_papers = case_papers[train_df['label'] == 1]\n",
    "  data.append(case_associated_papers)\n",
    "\n",
    "  num_of_associated_papers = len(case_associated_papers)\n",
    "  non_associated_papers = case_papers[train_df['label'] == 0]\n",
    "  data.append(non_associated_papers.sample(num_of_associated_papers))\n",
    "  \n",
    "balanced_df = pd.concat(data)"
   ]
  },
  {
   "cell_type": "code",
   "execution_count": null,
   "metadata": {
    "id": "PZvJ-JmrpxBY"
   },
   "outputs": [],
   "source": [
    "def label(x):\n",
    "  if x == 1:\n",
    "    return 'associated'\n",
    "  else:\n",
    "    return 'irrelevant'\n",
    "his = pd.DataFrame(list(balanced_df['label'].apply(label)), columns=['labels'])"
   ]
  },
  {
   "cell_type": "code",
   "execution_count": null,
   "metadata": {
    "colab": {
     "base_uri": "https://localhost:8080/",
     "height": 297
    },
    "executionInfo": {
     "elapsed": 442,
     "status": "ok",
     "timestamp": 1667650681207,
     "user": {
      "displayName": "Igor Pidik",
      "userId": "12606022177661543582"
     },
     "user_tz": -60
    },
    "id": "YVEjhB2kpGvq",
    "outputId": "679a2884-e1f2-4b00-92ef-a1a382ef9ba2"
   },
   "outputs": [],
   "source": [
    "sns.histplot(data=his, x=\"labels\")"
   ]
  },
  {
   "cell_type": "code",
   "execution_count": null,
   "metadata": {
    "id": "XYL47bLVoLmW"
   },
   "outputs": [],
   "source": [
    "balanced_df.to_csv('/content/drive/MyDrive/master_thesis/generalization/data/train_balanced_df.csv')"
   ]
  }
 ],
 "metadata": {
  "colab": {
   "authorship_tag": "ABX9TyPqu8sZL5tDeYwFOD8cAzs+",
   "provenance": []
  },
  "gpuClass": "standard",
  "kernelspec": {
   "display_name": "Python 3 (ipykernel)",
   "language": "python",
   "name": "python3"
  },
  "language_info": {
   "codemirror_mode": {
    "name": "ipython",
    "version": 3
   },
   "file_extension": ".py",
   "mimetype": "text/x-python",
   "name": "python",
   "nbconvert_exporter": "python",
   "pygments_lexer": "ipython3",
   "version": "3.9.13"
  }
 },
 "nbformat": 4,
 "nbformat_minor": 4
}

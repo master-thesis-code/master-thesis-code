{
 "cells": [
  {
   "cell_type": "code",
   "execution_count": null,
   "metadata": {
    "colab": {
     "base_uri": "https://localhost:8080/"
    },
    "executionInfo": {
     "elapsed": 19469,
     "status": "ok",
     "timestamp": 1667650770192,
     "user": {
      "displayName": "Igor Pidik",
      "userId": "12606022177661543582"
     },
     "user_tz": -60
    },
    "id": "W6qYM0DXBaMf",
    "outputId": "67825e77-0eeb-4ceb-a17f-40798cf2213a"
   },
   "outputs": [],
   "source": [
    "from google.colab import drive\n",
    "drive.mount('/content/drive')"
   ]
  },
  {
   "cell_type": "code",
   "execution_count": null,
   "metadata": {
    "id": "uRvRufKqm1V9"
   },
   "outputs": [],
   "source": [
    "import pandas as pd\n",
    "import numpy as np\n",
    "from tqdm import tqdm\n",
    "import seaborn as sns"
   ]
  },
  {
   "cell_type": "code",
   "execution_count": null,
   "metadata": {
    "id": "zjJgPC10lw0P"
   },
   "outputs": [],
   "source": [
    "train_df = pd.read_csv('/content/drive/MyDrive/master_thesis/generalization/data/train_df.csv')"
   ]
  },
  {
   "cell_type": "code",
   "execution_count": null,
   "metadata": {
    "id": "PeT3PT0W8TGS"
   },
   "outputs": [],
   "source": [
    "train_df = train_df[train_df['type'] != 'irrelevant_paper']"
   ]
  },
  {
   "cell_type": "code",
   "execution_count": null,
   "metadata": {
    "id": "mO1D6NZUu45V"
   },
   "outputs": [],
   "source": [
    "train_cases_ids = train_df['case_id'].unique()"
   ]
  },
  {
   "cell_type": "markdown",
   "metadata": {
    "id": "5DG92CWKk1yi"
   },
   "source": [
    "Create a semi balanced training dataset and use semi-relevant papers as negatives"
   ]
  },
  {
   "cell_type": "code",
   "execution_count": null,
   "metadata": {
    "id": "PksdBAD19GhX"
   },
   "outputs": [],
   "source": [
    "data = []\n",
    "for case_id in tqdm(train_cases_ids):\n",
    "  case_papers = train_df[train_df['case_id'] == case_id]\n",
    "  case_associated_papers = case_papers[train_df['label'] == 1]\n",
    "  data.append(case_associated_papers)\n",
    "\n",
    "  num_of_associated_papers = len(case_associated_papers)\n",
    "  non_associated_papers = case_papers[train_df['label'] == 0]\n",
    "  data.append(non_associated_papers.sample(len(non_associated_papers) // 2))\n",
    "  \n",
    "balanced_df = pd.concat(data)"
   ]
  },
  {
   "cell_type": "code",
   "execution_count": null,
   "metadata": {
    "id": "PZvJ-JmrpxBY"
   },
   "outputs": [],
   "source": [
    "def label(x):\n",
    "  if x == 1:\n",
    "    return 'associated'\n",
    "  else:\n",
    "    return 'irrelevant'\n",
    "his = pd.DataFrame(list(balanced_df['label'].apply(label)), columns=['labels'])"
   ]
  },
  {
   "cell_type": "code",
   "execution_count": null,
   "metadata": {
    "colab": {
     "base_uri": "https://localhost:8080/",
     "height": 296
    },
    "executionInfo": {
     "elapsed": 360,
     "status": "ok",
     "timestamp": 1667650806031,
     "user": {
      "displayName": "Igor Pidik",
      "userId": "12606022177661543582"
     },
     "user_tz": -60
    },
    "id": "YVEjhB2kpGvq",
    "outputId": "9410b67f-898b-4cb6-c7ba-e050e2e33753"
   },
   "outputs": [],
   "source": [
    "sns.histplot(data=his, x=\"labels\")"
   ]
  },
  {
   "cell_type": "code",
   "execution_count": null,
   "metadata": {
    "id": "XYL47bLVoLmW"
   },
   "outputs": [],
   "source": [
    "balanced_df.to_csv('/content/drive/MyDrive/master_thesis/generalization/data/train_less_skewed_df.csv')"
   ]
  }
 ],
 "metadata": {
  "colab": {
   "authorship_tag": "ABX9TyNejh37OAXA0I+gXU4sj9Jz",
   "provenance": []
  },
  "gpuClass": "standard",
  "kernelspec": {
   "display_name": "Python 3 (ipykernel)",
   "language": "python",
   "name": "python3"
  },
  "language_info": {
   "codemirror_mode": {
    "name": "ipython",
    "version": 3
   },
   "file_extension": ".py",
   "mimetype": "text/x-python",
   "name": "python",
   "nbconvert_exporter": "python",
   "pygments_lexer": "ipython3",
   "version": "3.9.13"
  }
 },
 "nbformat": 4,
 "nbformat_minor": 4
}

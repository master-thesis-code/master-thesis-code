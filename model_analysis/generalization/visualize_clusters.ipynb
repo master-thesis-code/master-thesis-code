{
 "cells": [
  {
   "cell_type": "code",
   "execution_count": null,
   "metadata": {
    "colab": {
     "base_uri": "https://localhost:8080/"
    },
    "executionInfo": {
     "elapsed": 24559,
     "status": "ok",
     "timestamp": 1667644962019,
     "user": {
      "displayName": "Igor Pidik",
      "userId": "12606022177661543582"
     },
     "user_tz": -60
    },
    "id": "W6qYM0DXBaMf",
    "outputId": "b6fa4f6e-8029-4983-de5b-c226bdb93b4d"
   },
   "outputs": [],
   "source": [
    "from google.colab import drive\n",
    "drive.mount('/content/drive')"
   ]
  },
  {
   "cell_type": "code",
   "execution_count": null,
   "metadata": {
    "id": "XG6KsuFkCcxb"
   },
   "outputs": [],
   "source": [
    "import pandas as pd\n",
    "import numpy as np\n",
    "import seaborn as sns\n",
    "import matplotlib.pyplot as plt\n",
    "from sklearn.manifold import TSNE"
   ]
  },
  {
   "cell_type": "code",
   "execution_count": null,
   "metadata": {
    "id": "GFbGH-kmipl6"
   },
   "outputs": [],
   "source": [
    "from numpy.random import choice\n",
    "from sklearn.metrics.pairwise import cosine_similarity"
   ]
  },
  {
   "cell_type": "code",
   "execution_count": null,
   "metadata": {
    "id": "V1liTL0496a_"
   },
   "outputs": [],
   "source": [
    "from sklearn.metrics import classification_report"
   ]
  },
  {
   "cell_type": "code",
   "execution_count": null,
   "metadata": {
    "id": "il9VvoKEY5g3"
   },
   "outputs": [],
   "source": [
    "# mini-batch k-means clustering\n",
    "from numpy import unique\n",
    "from numpy import where\n",
    "from sklearn.datasets import make_classification\n",
    "from sklearn.cluster import MiniBatchKMeans, DBSCAN, Birch\n",
    "from matplotlib import pyplot"
   ]
  },
  {
   "cell_type": "code",
   "execution_count": null,
   "metadata": {
    "id": "EwHOs0nD_PzI"
   },
   "outputs": [],
   "source": [
    "test_cases = pd.read_pickle('/content/drive/MyDrive/master_thesis/generalization/data/test_cases_emb.pkl')\n",
    "dev_cases = pd.read_pickle('/content/drive/MyDrive/master_thesis/generalization/data/dev_cases_emb.pkl')\n",
    "train_cases = pd.read_pickle('/content/drive/MyDrive/master_thesis/generalization/data/train_cases_emb.pkl')"
   ]
  },
  {
   "cell_type": "code",
   "execution_count": null,
   "metadata": {
    "id": "N38pj8haYF_n"
   },
   "outputs": [],
   "source": [
    "test_cases['type'] = 'test'"
   ]
  },
  {
   "cell_type": "code",
   "execution_count": null,
   "metadata": {},
   "outputs": [],
   "source": [
    "dev_cases['type'] = 'dev'"
   ]
  },
  {
   "cell_type": "code",
   "execution_count": null,
   "metadata": {
    "id": "sWn2-q9_YBjQ"
   },
   "outputs": [],
   "source": [
    "train_cases['type'] = 'train'"
   ]
  },
  {
   "cell_type": "code",
   "execution_count": null,
   "metadata": {
    "id": "VYY-uOFYYH1E"
   },
   "outputs": [],
   "source": [
    "tsne_data = pd.concat([train_cases, test_cases, dev_cases])"
   ]
  },
  {
   "cell_type": "code",
   "execution_count": null,
   "metadata": {
    "id": "_u18fi6qXvJl"
   },
   "outputs": [],
   "source": [
    "X_embedded = TSNE(n_components=2, learning_rate='auto', init='random', perplexity=30).fit_transform(np.array(tsne_data['embeddings'].tolist()))"
   ]
  },
  {
   "cell_type": "code",
   "execution_count": null,
   "metadata": {
    "id": "c021XwUVXxv_"
   },
   "outputs": [],
   "source": [
    "tsne_data[\"x\"] = X_embedded[:, 0]\n",
    "tsne_data[\"y\"] = X_embedded[:, 1]"
   ]
  },
  {
   "cell_type": "code",
   "execution_count": null,
   "metadata": {
    "colab": {
     "base_uri": "https://localhost:8080/",
     "height": 296
    },
    "executionInfo": {
     "elapsed": 678,
     "status": "ok",
     "timestamp": 1667644970700,
     "user": {
      "displayName": "Igor Pidik",
      "userId": "12606022177661543582"
     },
     "user_tz": -60
    },
    "id": "7FrnhLyMX1nZ",
    "outputId": "f538e88e-df78-41c7-acbb-6573e146a025"
   },
   "outputs": [],
   "source": [
    "data = tsne_data.iloc[::-1]\n",
    "sns.scatterplot(x=\"x\", y=\"y\", hue=data['type'].tolist(),\n",
    "                palette=sns.color_palette(\"hls\", 2),\n",
    "                data=data)"
   ]
  },
  {
   "cell_type": "code",
   "execution_count": null,
   "metadata": {
    "id": "yf5WG661amZ-"
   },
   "outputs": [],
   "source": [
    "def get_clusters_knn(n_clusters):\n",
    "  model = MiniBatchKMeans(n_clusters=n_clusters)\n",
    "  y_hat = model.fit_predict(np.array(tsne_data['embeddings'].tolist()))\n",
    "  cluster_data = tsne_data.copy()\n",
    "  cluster_data['cluster'] = y_hat\n",
    "  data = cluster_data.iloc[::-1]\n",
    "  sns.scatterplot(x=\"x\", y=\"y\", hue=data['cluster'].tolist(),\n",
    "                  style=data['type'],\n",
    "                  palette=sns.color_palette(\"hls\", n_clusters),\n",
    "                  data=data)"
   ]
  },
  {
   "cell_type": "code",
   "execution_count": null,
   "metadata": {
    "id": "9P5qRbdIbYn5"
   },
   "outputs": [],
   "source": [
    "def get_clusters_DBSCAN(min_samples=10):\n",
    "  model = DBSCAN(eps=0.40, min_samples=min_samples)\n",
    "  y_hat = model.fit_predict(np.array(tsne_data['embeddings'].tolist()))\n",
    "  clusters = unique(y_hat)\n",
    "  cluster_data = tsne_data.copy()\n",
    "  cluster_data['cluster'] = y_hat\n",
    "  data = cluster_data.iloc[::-1]\n",
    "  sns.scatterplot(x=\"x\", y=\"y\", hue=data['cluster'].tolist(),\n",
    "                  style=data['type'],\n",
    "                  palette=sns.color_palette(\"hls\", len(clusters)),\n",
    "                  data=data)\n",
    "  return cluster_data"
   ]
  },
  {
   "cell_type": "code",
   "execution_count": null,
   "metadata": {
    "id": "BlAwHRD3bSd3"
   },
   "outputs": [],
   "source": [
    "clustered_data = get_clusters_DBSCAN()"
   ]
  },
  {
   "cell_type": "code",
   "execution_count": null,
   "metadata": {
    "id": "RQKLdOM5Z5B7"
   },
   "outputs": [],
   "source": [
    "clustered_data.to_pickle('/content/drive/MyDrive/master_thesis/generalization/data/clustering.pkl')"
   ]
  },
  {
   "cell_type": "code",
   "execution_count": null,
   "metadata": {
    "colab": {
     "base_uri": "https://localhost:8080/",
     "height": 279
    },
    "executionInfo": {
     "elapsed": 943,
     "status": "ok",
     "timestamp": 1667644972234,
     "user": {
      "displayName": "Igor Pidik",
      "userId": "12606022177661543582"
     },
     "user_tz": -60
    },
    "id": "s5Cb0aeEa4-k",
    "outputId": "ece10c37-c250-455b-ab67-9f3df732f5b9"
   },
   "outputs": [],
   "source": [
    "get_clusters_knn(4)"
   ]
  }
 ],
 "metadata": {
  "colab": {
   "authorship_tag": "ABX9TyO0wNdBTzBFYLnPUT+7x0iO",
   "provenance": []
  },
  "kernelspec": {
   "display_name": "Python 3 (ipykernel)",
   "language": "python",
   "name": "python3"
  },
  "language_info": {
   "codemirror_mode": {
    "name": "ipython",
    "version": 3
   },
   "file_extension": ".py",
   "mimetype": "text/x-python",
   "name": "python",
   "nbconvert_exporter": "python",
   "pygments_lexer": "ipython3",
   "version": "3.9.13"
  }
 },
 "nbformat": 4,
 "nbformat_minor": 4
}

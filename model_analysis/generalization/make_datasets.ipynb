{
 "cells": [
  {
   "cell_type": "code",
   "execution_count": null,
   "metadata": {
    "colab": {
     "base_uri": "https://localhost:8080/"
    },
    "executionInfo": {
     "elapsed": 16188,
     "status": "ok",
     "timestamp": 1668349635181,
     "user": {
      "displayName": "Igor Pidik",
      "userId": "12606022177661543582"
     },
     "user_tz": -60
    },
    "id": "W6qYM0DXBaMf",
    "outputId": "b9cf9b81-6e97-4540-fe08-16bc4508a7a5"
   },
   "outputs": [],
   "source": [
    "from google.colab import drive\n",
    "drive.mount('/content/drive')"
   ]
  },
  {
   "cell_type": "code",
   "execution_count": null,
   "metadata": {
    "id": "XG6KsuFkCcxb"
   },
   "outputs": [],
   "source": [
    "import pandas as pd\n",
    "from sklearn.model_selection import train_test_split\n",
    "import seaborn as sns"
   ]
  },
  {
   "cell_type": "code",
   "execution_count": null,
   "metadata": {
    "id": "46rMurpTnYma"
   },
   "outputs": [],
   "source": [
    "train_df = pd.read_csv('/content/drive/MyDrive/master_thesis/dataset_data/end_to_end/train_df.csv')\n",
    "dev_df = pd.read_csv('/content/drive/MyDrive/master_thesis/dataset_data/end_to_end/dev_df.csv')\n",
    "test_df = pd.read_csv('/content/drive/MyDrive/master_thesis/dataset_data/end_to_end/test_df.csv')"
   ]
  },
  {
   "cell_type": "code",
   "execution_count": null,
   "metadata": {
    "id": "bi7kjmgonnsk"
   },
   "outputs": [],
   "source": [
    "df = pd.concat([train_df, dev_df, test_df])"
   ]
  },
  {
   "cell_type": "code",
   "execution_count": null,
   "metadata": {
    "id": "RQKLdOM5Z5B7"
   },
   "outputs": [],
   "source": [
    "clustered_data = pd.read_pickle('/content/drive/MyDrive/master_thesis/generalization/data/clustering.pkl')"
   ]
  },
  {
   "cell_type": "code",
   "execution_count": null,
   "metadata": {
    "id": "92b2aANwgk9X"
   },
   "outputs": [],
   "source": [
    "def get_cluster_name(x):\n",
    "  if x == -1:\n",
    "    return 2\n",
    "  return x"
   ]
  },
  {
   "cell_type": "code",
   "execution_count": null,
   "metadata": {
    "id": "FAzeB1jigSao"
   },
   "outputs": [],
   "source": [
    "clustered_data['cluster_name'] = clustered_data['cluster'].apply(lambda x: 'Cluster ' + str(get_cluster_name(x)))"
   ]
  },
  {
   "cell_type": "code",
   "execution_count": null,
   "metadata": {
    "colab": {
     "base_uri": "https://localhost:8080/",
     "height": 279
    },
    "executionInfo": {
     "elapsed": 465,
     "status": "ok",
     "timestamp": 1668351810631,
     "user": {
      "displayName": "Igor Pidik",
      "userId": "12606022177661543582"
     },
     "user_tz": -60
    },
    "id": "q4UZKecTZHHH",
    "outputId": "019ef6be-8caf-4f07-e6bc-e342b56a91a8"
   },
   "outputs": [],
   "source": [
    "ax = sns.scatterplot(x=\"x\", y=\"y\", hue=clustered_data['cluster_name'].tolist(),\n",
    "                palette=sns.color_palette(\"hls\", 3),\n",
    "                data=clustered_data)"
   ]
  },
  {
   "cell_type": "code",
   "execution_count": null,
   "metadata": {
    "id": "0Df6i3EInClk"
   },
   "outputs": [],
   "source": [
    "# cluster 0 train (take part to eval as well)\n",
    "# cluster 1 good candidate\n",
    "# cluster -1 okay candidate"
   ]
  },
  {
   "cell_type": "code",
   "execution_count": null,
   "metadata": {
    "id": "8SzkafPNZKCZ"
   },
   "outputs": [],
   "source": [
    "train_case_ids = clustered_data[clustered_data['cluster'] == 0]['case_id'].unique()\n",
    "eval_1_case_ids = clustered_data[clustered_data['cluster'] == 1]['case_id'].unique()\n",
    "eval_2_case_ids = clustered_data[clustered_data['cluster'] == -1]['case_id'].unique()"
   ]
  },
  {
   "cell_type": "code",
   "execution_count": null,
   "metadata": {
    "id": "jcYxBZYfo4XR"
   },
   "outputs": [],
   "source": [
    "train_case_ids, eval_control = train_test_split(train_case_ids, test_size=0.15, random_state=42)"
   ]
  },
  {
   "cell_type": "code",
   "execution_count": null,
   "metadata": {
    "id": "jfdcR1aKpYiY"
   },
   "outputs": [],
   "source": [
    "train_df = df[df['case_id'].isin(train_case_ids)]\n",
    "eval_1 = df[df['case_id'].isin(eval_1_case_ids)]\n",
    "eval_2 = df[df['case_id'].isin(eval_2_case_ids)]\n",
    "eval_control = df[df['case_id'].isin(eval_control)]"
   ]
  },
  {
   "cell_type": "markdown",
   "metadata": {},
   "source": [
    "# Remove papers overlap"
   ]
  },
  {
   "cell_type": "code",
   "execution_count": null,
   "metadata": {},
   "outputs": [],
   "source": [
    "train_df = train_df[~(train_df['paper_id'].isin(eval_1['paper_id'].unique()))]\n",
    "train_df = train_df[~(train_df['paper_id'].isin(eval_2['paper_id'].unique()))]\n",
    "train_df = train_df[~(train_df['paper_id'].isin(eval_control['paper_id'].unique()))]"
   ]
  },
  {
   "cell_type": "markdown",
   "metadata": {
    "id": "JH59h0puj_HU"
   },
   "source": [
    "# Explore data"
   ]
  },
  {
   "cell_type": "code",
   "execution_count": null,
   "metadata": {
    "id": "DzzbMeT0-rXi"
   },
   "outputs": [],
   "source": [
    "for description in eval_1['ChallengeDescription'].unique():\n",
    "  print(description)\n",
    "  print(\"\\n\\n\\n########################\")"
   ]
  },
  {
   "cell_type": "code",
   "execution_count": null,
   "metadata": {
    "id": "1JdPLalk_t24"
   },
   "outputs": [],
   "source": [
    "eval_2_cases = eval_2['ChallengeDescription'].unique()\n",
    "for description in eval_2_cases:\n",
    "  print(description)\n",
    "  print(\"\\n\\n\\n########################\")"
   ]
  },
  {
   "cell_type": "markdown",
   "metadata": {
    "id": "0_JBDeJ8kAgY"
   },
   "source": [
    "# Save data"
   ]
  },
  {
   "cell_type": "code",
   "execution_count": null,
   "metadata": {
    "id": "ZLHrqX1Apsfe"
   },
   "outputs": [],
   "source": [
    "train_df.to_csv('/content/drive/MyDrive/master_thesis/generalization/data/train_df.csv')\n",
    "eval_1.to_csv('/content/drive/MyDrive/master_thesis/generalization/data/eval_1_df.csv')\n",
    "eval_2.to_csv('/content/drive/MyDrive/master_thesis/generalization/data/eval_2_df.csv')\n",
    "eval_control.to_csv('/content/drive/MyDrive/master_thesis/generalization/data/eval_control_df.csv')"
   ]
  }
 ],
 "metadata": {
  "colab": {
   "authorship_tag": "ABX9TyNGyLQn3JM2iZUBCcVY6kOU",
   "provenance": []
  },
  "kernelspec": {
   "display_name": "Python 3 (ipykernel)",
   "language": "python",
   "name": "python3"
  },
  "language_info": {
   "codemirror_mode": {
    "name": "ipython",
    "version": 3
   },
   "file_extension": ".py",
   "mimetype": "text/x-python",
   "name": "python",
   "nbconvert_exporter": "python",
   "pygments_lexer": "ipython3",
   "version": "3.9.13"
  }
 },
 "nbformat": 4,
 "nbformat_minor": 4
}

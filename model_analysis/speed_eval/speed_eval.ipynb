{
 "cells": [
  {
   "cell_type": "code",
   "execution_count": null,
   "metadata": {
    "colab": {
     "base_uri": "https://localhost:8080/"
    },
    "executionInfo": {
     "elapsed": 23497,
     "status": "ok",
     "timestamp": 1669017391813,
     "user": {
      "displayName": "Igor Pidik",
      "userId": "12606022177661543582"
     },
     "user_tz": -60
    },
    "id": "W6qYM0DXBaMf",
    "outputId": "51d9c948-d9c9-46a2-80e1-83c682e14fee"
   },
   "outputs": [],
   "source": [
    "from google.colab import drive\n",
    "drive.mount('/content/drive')"
   ]
  },
  {
   "cell_type": "code",
   "execution_count": null,
   "metadata": {
    "id": "XG6KsuFkCcxb"
   },
   "outputs": [],
   "source": [
    "import pandas as pd\n",
    "import numpy as np\n",
    "import seaborn as sns\n",
    "import matplotlib.pyplot as plt"
   ]
  },
  {
   "cell_type": "markdown",
   "metadata": {},
   "source": [
    "# Load and prepare data"
   ]
  },
  {
   "cell_type": "code",
   "execution_count": null,
   "metadata": {
    "id": "bwJlKxrElHil"
   },
   "outputs": [],
   "source": [
    "emb_precomputed = pd.read_csv('/content/drive/MyDrive/master_thesis/speed/data/emb_precomputed.csv')\n",
    "emb_precomputed['model'] = 'Precomputed End2End(Embeddings only)'"
   ]
  },
  {
   "cell_type": "code",
   "execution_count": null,
   "metadata": {
    "id": "05VQk24AoR3a"
   },
   "outputs": [],
   "source": [
    "emb_precomputed_cpu = pd.read_csv('/content/drive/MyDrive/master_thesis/speed/data/emb_precomputed_cpu.csv')"
   ]
  },
  {
   "cell_type": "code",
   "execution_count": null,
   "metadata": {
    "id": "s7I41NsilKf0"
   },
   "outputs": [],
   "source": [
    "emb_times = pd.read_csv('/content/drive/MyDrive/master_thesis/speed/data/emb_times_gpu.csv')"
   ]
  },
  {
   "cell_type": "code",
   "execution_count": null,
   "metadata": {
    "id": "587xxlos-B6Q"
   },
   "outputs": [],
   "source": [
    "emb_times_cpu = pd.read_csv('/content/drive/MyDrive/master_thesis/speed/data/emb_times.csv')"
   ]
  },
  {
   "cell_type": "code",
   "execution_count": null,
   "metadata": {
    "id": "IpceHUyQ-Rll"
   },
   "outputs": [],
   "source": [
    "emb_times_cpu['model'] = \"End2End(Embeddings only)\""
   ]
  },
  {
   "cell_type": "code",
   "execution_count": null,
   "metadata": {
    "id": "-eXQw90jup1U"
   },
   "outputs": [],
   "source": [
    "emb_times['model'] = \"End2End(Embeddings only)\""
   ]
  },
  {
   "cell_type": "code",
   "execution_count": null,
   "metadata": {
    "id": "twS4QzheumZR"
   },
   "outputs": [],
   "source": [
    "end2end_times = pd.read_csv('/content/drive/MyDrive/master_thesis/speed/data/times_gpu.csv')"
   ]
  },
  {
   "cell_type": "code",
   "execution_count": null,
   "metadata": {
    "id": "F9-qVixC-EyI"
   },
   "outputs": [],
   "source": [
    "end2end_times_cpu = pd.read_csv('/content/drive/MyDrive/master_thesis/speed/data/times.csv')"
   ]
  },
  {
   "cell_type": "code",
   "execution_count": null,
   "metadata": {
    "id": "c4FsA-Q3uwA5"
   },
   "outputs": [],
   "source": [
    "end2end_times['model'] = \"End2End\""
   ]
  },
  {
   "cell_type": "code",
   "execution_count": null,
   "metadata": {
    "id": "acseIfFx-Udt"
   },
   "outputs": [],
   "source": [
    "end2end_times_cpu['model'] = \"End2End\""
   ]
  },
  {
   "cell_type": "code",
   "execution_count": null,
   "metadata": {
    "id": "YhZ4ChXSq5ps"
   },
   "outputs": [],
   "source": [
    "data = pd.concat([emb_times[['time', 'counter', 'case_id', 'model']], end2end_times[['time', 'counter', 'case_id', 'model']]])\n",
    "data.reset_index(inplace=True)"
   ]
  },
  {
   "cell_type": "markdown",
   "metadata": {},
   "source": [
    "# Plot data"
   ]
  },
  {
   "cell_type": "code",
   "execution_count": null,
   "metadata": {
    "colab": {
     "base_uri": "https://localhost:8080/",
     "height": 279
    },
    "executionInfo": {
     "elapsed": 58167,
     "status": "ok",
     "timestamp": 1668700903502,
     "user": {
      "displayName": "Igor Pidik",
      "userId": "12606022177661543582"
     },
     "user_tz": -60
    },
    "id": "astxATAgu75S",
    "outputId": "9cf5bcc7-0ea2-434b-af36-92f9a38d79a4"
   },
   "outputs": [],
   "source": [
    "g = sns.lineplot(data=data, x=\"counter\", y=\"time\", hue=\"model\")\n",
    "g.legend(title='Configuration')\n",
    "g.set(xlabel='# of samples', ylabel='Time (sec)')\n",
    "plt.show()"
   ]
  },
  {
   "cell_type": "code",
   "execution_count": null,
   "metadata": {
    "id": "9eIoYk6XoFoN"
   },
   "outputs": [],
   "source": [
    "data_precomputed = pd.concat([emb_precomputed[['time', 'counter', 'case_id', 'model']], end2end_times[['time', 'counter', 'case_id', 'model']]])\n",
    "data_precomputed.reset_index(inplace=True)"
   ]
  },
  {
   "cell_type": "code",
   "execution_count": null,
   "metadata": {
    "colab": {
     "base_uri": "https://localhost:8080/",
     "height": 279
    },
    "executionInfo": {
     "elapsed": 32416,
     "status": "ok",
     "timestamp": 1668700845348,
     "user": {
      "displayName": "Igor Pidik",
      "userId": "12606022177661543582"
     },
     "user_tz": -60
    },
    "id": "4D7x-JlAn1un",
    "outputId": "3d659e4f-d80c-4940-d260-c6224caafd7a"
   },
   "outputs": [],
   "source": [
    "g = sns.lineplot(data=data_precomputed, x=\"counter\", y=\"time\", hue=\"model\")\n",
    "g.legend(title='Configuration')\n",
    "g.set(xlabel='# of samples', ylabel='Time (sec)')\n",
    "plt.show()"
   ]
  },
  {
   "cell_type": "code",
   "execution_count": null,
   "metadata": {
    "id": "F2O338L1-Yde"
   },
   "outputs": [],
   "source": [
    "data_cpu = pd.concat([emb_times_cpu[['time', 'counter', 'case_id', 'model']], end2end_times_cpu[['time', 'counter', 'case_id', 'model']]])\n",
    "data_cpu.reset_index(inplace=True)"
   ]
  },
  {
   "cell_type": "code",
   "execution_count": null,
   "metadata": {
    "id": "TWwFc5thTwtW"
   },
   "outputs": [],
   "source": [
    "data_cpu['time'] = data_cpu['time'].apply(lambda x: x/60)"
   ]
  },
  {
   "cell_type": "code",
   "execution_count": null,
   "metadata": {
    "colab": {
     "base_uri": "https://localhost:8080/",
     "height": 279
    },
    "executionInfo": {
     "elapsed": 1542,
     "status": "ok",
     "timestamp": 1669017846265,
     "user": {
      "displayName": "Igor Pidik",
      "userId": "12606022177661543582"
     },
     "user_tz": -60
    },
    "id": "5DgvzInp-b9t",
    "outputId": "1ff731b4-5e2a-4ec3-e19a-9a817abc34ac"
   },
   "outputs": [],
   "source": [
    "g = sns.lineplot(data=data_cpu, x=\"counter\", y=\"time\", hue=\"model\")\n",
    "g.legend(title='Configuration')\n",
    "g.set(xlabel='# of samples', ylabel='Time (min)')\n",
    "plt.show()"
   ]
  },
  {
   "cell_type": "code",
   "execution_count": null,
   "metadata": {
    "id": "aaIJr3MeS_nk"
   },
   "outputs": [],
   "source": [
    "data_cpu_precomputed = pd.concat([emb_precomputed[['time', 'counter', 'case_id', 'model']], end2end_times_cpu[['time', 'counter', 'case_id', 'model']]])\n",
    "data_cpu_precomputed.reset_index(inplace=True)"
   ]
  },
  {
   "cell_type": "code",
   "execution_count": null,
   "metadata": {
    "id": "qVcXGapIT_9y"
   },
   "outputs": [],
   "source": [
    "data_cpu_precomputed['time'] = data_cpu_precomputed['time'].apply(lambda x: x/60)"
   ]
  },
  {
   "cell_type": "code",
   "execution_count": null,
   "metadata": {
    "colab": {
     "base_uri": "https://localhost:8080/",
     "height": 279
    },
    "executionInfo": {
     "elapsed": 2551,
     "status": "ok",
     "timestamp": 1668700805306,
     "user": {
      "displayName": "Igor Pidik",
      "userId": "12606022177661543582"
     },
     "user_tz": -60
    },
    "id": "s6OqfUCyTCIQ",
    "outputId": "d722ff00-e590-4534-cb9f-cf6e58e812fa"
   },
   "outputs": [],
   "source": [
    "g = sns.lineplot(data=data_cpu_precomputed, x=\"counter\", y=\"time\", hue=\"model\")\n",
    "g.legend(title='Configuration')\n",
    "g.set(xlabel='# of samples', ylabel='Time (min)')\n",
    "plt.show()"
   ]
  },
  {
   "cell_type": "code",
   "execution_count": null,
   "metadata": {
    "id": "ohIJJf6KVd2b"
   },
   "outputs": [],
   "source": [
    "def get_plot(data, ax, label, xlabel=\"# of samples\"):\n",
    "  g = sns.lineplot(data=data, x=\"counter\", y=\"time\", hue=\"model\", ax=ax)\n",
    "  ax.get_legend().remove()\n",
    "  g.set(xlabel=xlabel, ylabel=label)"
   ]
  },
  {
   "cell_type": "code",
   "execution_count": null,
   "metadata": {
    "colab": {
     "base_uri": "https://localhost:8080/",
     "height": 612
    },
    "executionInfo": {
     "elapsed": 88064,
     "status": "ok",
     "timestamp": 1668704259082,
     "user": {
      "displayName": "Igor Pidik",
      "userId": "12606022177661543582"
     },
     "user_tz": -60
    },
    "id": "EUnjHLyoV4ZF",
    "outputId": "cfdc43f5-dc8b-4ba1-ef94-42d353fddece"
   },
   "outputs": [],
   "source": [
    "fig = plt.figure()\n",
    "fig.set_size_inches(9, 9)\n",
    "fig.subplots_adjust(hspace=0.2, wspace=0.2)\n",
    "ax = fig.add_subplot(2, 2, 1)\n",
    "ax.set_title(\"No pre-computation\", fontdict={'fontweight': 'bold'})\n",
    "ax.annotate(\"GPU\", xy=(0, 0.5), xytext=(-ax.yaxis.labelpad-2,0),                    \n",
    "                xycoords=ax.yaxis.label, textcoords='offset points',\n",
    "                size='large', ha='right', va='center', weight='bold')\n",
    "get_plot(data, ax, 'Time (sec)', \"\")\n",
    "ax = fig.add_subplot(2, 2, 2)\n",
    "get_plot(data_precomputed, ax, \"\", \"\")\n",
    "ax.set_title(\"Embeddings pre-computed\", fontdict={'fontweight': 'bold'})\n",
    "ax = fig.add_subplot(2, 2, 3)\n",
    "ax.annotate(\"CPU\", xy=(0, 0.5), xytext=(-ax.yaxis.labelpad-2,0),                    \n",
    "                xycoords=ax.yaxis.label, textcoords='offset points',\n",
    "                size='large', ha='right', va='center', weight='bold')\n",
    "get_plot(data_cpu, ax, 'Time (min)')\n",
    "ax = fig.add_subplot(2, 2, 4)\n",
    "get_plot(data_cpu_precomputed, ax, '')\n",
    "fig.legend(['Embeddings', 'Full model'], loc='lower center')\n",
    "plt.show()"
   ]
  },
  {
   "cell_type": "code",
   "execution_count": null,
   "metadata": {
    "colab": {
     "base_uri": "https://localhost:8080/"
    },
    "executionInfo": {
     "elapsed": 1362,
     "status": "ok",
     "timestamp": 1668704331374,
     "user": {
      "displayName": "Igor Pidik",
      "userId": "12606022177661543582"
     },
     "user_tz": -60
    },
    "id": "GYb7UcuHh1Op",
    "outputId": "a121e938-3f3c-412a-aed9-9dc7b12ed217"
   },
   "outputs": [],
   "source": [
    "fig.legend(['Embeddings', 'Full model'], loc='best')"
   ]
  },
  {
   "cell_type": "code",
   "execution_count": null,
   "metadata": {
    "colab": {
     "base_uri": "https://localhost:8080/",
     "height": 669
    },
    "executionInfo": {
     "elapsed": 1275,
     "status": "ok",
     "timestamp": 1668704340838,
     "user": {
      "displayName": "Igor Pidik",
      "userId": "12606022177661543582"
     },
     "user_tz": -60
    },
    "id": "Z5NgWH87h2AW",
    "outputId": "1e2ed5a6-631b-4975-f68b-abb18a1a7970"
   },
   "outputs": [],
   "source": [
    "fig"
   ]
  }
 ],
 "metadata": {
  "colab": {
   "authorship_tag": "ABX9TyMaeosq7vOAVM3oa4waZHQh",
   "provenance": []
  },
  "kernelspec": {
   "display_name": "Python 3 (ipykernel)",
   "language": "python",
   "name": "python3"
  },
  "language_info": {
   "codemirror_mode": {
    "name": "ipython",
    "version": 3
   },
   "file_extension": ".py",
   "mimetype": "text/x-python",
   "name": "python",
   "nbconvert_exporter": "python",
   "pygments_lexer": "ipython3",
   "version": "3.9.13"
  }
 },
 "nbformat": 4,
 "nbformat_minor": 4
}
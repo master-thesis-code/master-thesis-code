{
 "cells": [
  {
   "cell_type": "code",
   "execution_count": null,
   "metadata": {
    "colab": {
     "base_uri": "https://localhost:8080/"
    },
    "id": "W6qYM0DXBaMf",
    "outputId": "1fddf0c5-9491-4009-8e98-ccae48ea113d"
   },
   "outputs": [
    {
     "name": "stdout",
     "output_type": "stream",
     "text": [
      "Mounted at /content/drive\n"
     ]
    }
   ],
   "source": [
    "from google.colab import drive\n",
    "drive.mount('/content/drive')"
   ]
  },
  {
   "cell_type": "code",
   "execution_count": null,
   "metadata": {
    "id": "s5jEoD7do61Z"
   },
   "outputs": [],
   "source": [
    "from tqdm import tqdm"
   ]
  },
  {
   "cell_type": "code",
   "execution_count": null,
   "metadata": {
    "id": "uRvRufKqm1V9"
   },
   "outputs": [],
   "source": [
    "import pandas as pd\n",
    "import numpy as np"
   ]
  },
  {
   "cell_type": "code",
   "execution_count": null,
   "metadata": {
    "id": "VynWbEHvHj7K"
   },
   "outputs": [],
   "source": [
    "import seaborn as sns\n",
    "import matplotlib.pyplot as plt\n",
    "from sklearn.metrics import precision_recall_fscore_support, classification_report"
   ]
  },
  {
   "cell_type": "code",
   "execution_count": null,
   "metadata": {
    "id": "I4-8zkeSC-78"
   },
   "outputs": [],
   "source": [
    "import glob"
   ]
  },
  {
   "cell_type": "markdown",
   "metadata": {},
   "source": [
    "# Load targets"
   ]
  },
  {
   "cell_type": "code",
   "execution_count": null,
   "metadata": {
    "id": "urcfv1VfaaYA"
   },
   "outputs": [],
   "source": [
    "all_papers = pd.read_csv('/content/drive/MyDrive/master_thesis/dataset_data/end_to_end/10k_papers_eval.csv')"
   ]
  },
  {
   "cell_type": "code",
   "execution_count": null,
   "metadata": {
    "id": "9ZlwBNoW6p5C"
   },
   "outputs": [],
   "source": [
    "def get_precision_recall_at_k(k, data):\n",
    "  all_relevant = data[(data['type'] == 'associated_paper')]\n",
    "  k_data = data.iloc[:k]\n",
    "  k_relevant = k_data[(k_data['type'] == 'associated_paper')]\n",
    "  precision = len(k_relevant) / k\n",
    "  recall = len(k_relevant)/ len(all_relevant)\n",
    "  return precision, recall\n",
    "\n",
    "def evaluate_case_data(case_id, case_results):\n",
    "  sorted_case_data = case_results.sort_values(by='similarity', ascending=False)\n",
    "  ks = [5, 10, 100, 500, 1000, 5000, 10000]\n",
    "  results = {'case_id': case_id}\n",
    "  for k in ks:\n",
    "    p, r = get_precision_recall_at_k(k, sorted_case_data)\n",
    "    results[f\"top-{k}-precision\"] = p\n",
    "    results[f\"top-{k}-recall\"] = r\n",
    "  return results"
   ]
  },
  {
   "cell_type": "code",
   "execution_count": null,
   "metadata": {
    "id": "lS7xkvyGDDKT"
   },
   "outputs": [],
   "source": [
    "def eval():\n",
    "  res = []\n",
    "  # eval results for every case\n",
    "  for f in glob.glob(\"/content/drive/MyDrive/master_thesis/eval_data/10k_full_eval/*.csv\"):\n",
    "    case_data = pd.read_csv(f)\n",
    "    case_id = case_data.iloc[0]['case_id']\n",
    "    paper_targets = all_papers[all_papers['case_id'] == case_id][['paper_id', 'type']]\n",
    "    case_data_with_targets = pd.merge(case_data, paper_targets, left_on='paper_id', right_on='paper_id')\n",
    "    res.append(evaluate_case_data(case_id, case_data_with_targets))\n",
    "  return pd.DataFrame.from_records(res)"
   ]
  },
  {
   "cell_type": "code",
   "execution_count": null,
   "metadata": {
    "id": "2Dd3aiylEAqq"
   },
   "outputs": [],
   "source": [
    "results = eval()"
   ]
  },
  {
   "cell_type": "markdown",
   "metadata": {},
   "source": [
    "# Plot results"
   ]
  },
  {
   "cell_type": "code",
   "execution_count": null,
   "metadata": {
    "id": "VCXnYqKbGr-F"
   },
   "outputs": [],
   "source": [
    "plottable_data = []\n",
    "for k in [5, 10, 100, 500, 1000, 5000, 10000]:\n",
    "  for t in ['recall', 'precision']:\n",
    "    r = results[['case_id', f'top-{k}-{t}']].rename(columns={f'top-{k}-{t}': 'value'})\n",
    "    r['type'] = t\n",
    "    r['k'] = k\n",
    "    plottable_data.append(r)"
   ]
  },
  {
   "cell_type": "code",
   "execution_count": null,
   "metadata": {
    "id": "iNCclO0hHamu"
   },
   "outputs": [],
   "source": [
    "plottable_df = pd.concat(plottable_data)"
   ]
  },
  {
   "cell_type": "code",
   "execution_count": null,
   "metadata": {
    "id": "RSM_9Y_FHfc8"
   },
   "outputs": [],
   "source": [
    "plottable_df.reset_index(inplace=True, drop=True)"
   ]
  },
  {
   "cell_type": "code",
   "execution_count": null,
   "metadata": {
    "colab": {
     "base_uri": "https://localhost:8080/",
     "height": 301
    },
    "id": "nwF65KWVHi9d",
    "outputId": "8ebb81b1-b146-4d2b-e119-7a4a493a1fcf"
   },
   "outputs": [
    {
     "data": {
      "text/plain": [
       "<matplotlib.legend.Legend at 0x7f2c9ecd9e10>"
      ]
     },
     "execution_count": 25,
     "metadata": {},
     "output_type": "execute_result"
    },
    {
     "data": {
      "image/png": "[encoded data removed]",
      "text/plain": [
       "<Figure size 432x288 with 1 Axes>"
      ]
     },
     "metadata": {
      "needs_background": "light"
     },
     "output_type": "display_data"
    }
   ],
   "source": [
    "g = sns.lineplot(data=plottable_df, x=\"k\", y=\"value\", hue=\"type\")\n",
    "g.set(xscale='log')\n",
    "g.legend(title='Metrics')"
   ]
  }
 ],
 "metadata": {
  "colab": {
   "provenance": []
  },
  "gpuClass": "standard",
  "kernelspec": {
   "display_name": "Python 3 (ipykernel)",
   "language": "python",
   "name": "python3"
  },
  "language_info": {
   "codemirror_mode": {
    "name": "ipython",
    "version": 3
   },
   "file_extension": ".py",
   "mimetype": "text/x-python",
   "name": "python",
   "nbconvert_exporter": "python",
   "pygments_lexer": "ipython3",
   "version": "3.9.13"
  }
 },
 "nbformat": 4,
 "nbformat_minor": 4
}

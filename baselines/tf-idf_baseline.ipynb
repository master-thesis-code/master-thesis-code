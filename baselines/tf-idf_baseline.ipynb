{
 "cells": [
  {
   "cell_type": "code",
   "execution_count": null,
   "metadata": {
    "colab": {
     "base_uri": "https://localhost:8080/"
    },
    "executionInfo": {
     "elapsed": 25177,
     "status": "ok",
     "timestamp": 1667905484769,
     "user": {
      "displayName": "Igor Pidik",
      "userId": "12606022177661543582"
     },
     "user_tz": -60
    },
    "id": "W6qYM0DXBaMf",
    "outputId": "0d75df25-1d95-4558-f26a-4c3e3236c4b1"
   },
   "outputs": [],
   "source": [
    "from google.colab import drive\n",
    "drive.mount('/content/drive')"
   ]
  },
  {
   "cell_type": "code",
   "execution_count": null,
   "metadata": {
    "id": "XG6KsuFkCcxb"
   },
   "outputs": [],
   "source": [
    "import pandas as pd\n",
    "import numpy as np\n",
    "import sklearn.metrics as metrics\n",
    "import matplotlib.pyplot as plt"
   ]
  },
  {
   "cell_type": "code",
   "execution_count": null,
   "metadata": {
    "id": "ATQx0g9sDwFk"
   },
   "outputs": [],
   "source": [
    "import matplotlib.pyplot as plt\n",
    "from sklearn.metrics import confusion_matrix, ConfusionMatrixDisplay\n",
    "from sklearn.metrics import classification_report, precision_recall_curve"
   ]
  },
  {
   "cell_type": "code",
   "execution_count": null,
   "metadata": {
    "id": "KZYsqaAUc2gu"
   },
   "outputs": [],
   "source": [
    "from sklearn.feature_extraction.text import TfidfVectorizer\n",
    "from sklearn.metrics.pairwise import cosine_similarity"
   ]
  },
  {
   "cell_type": "code",
   "execution_count": null,
   "metadata": {
    "id": "yc1ofC-o6Uli"
   },
   "outputs": [],
   "source": [
    "from sklearn.manifold import TSNE"
   ]
  },
  {
   "cell_type": "code",
   "execution_count": null,
   "metadata": {
    "id": "Sg3sDzg9YziG"
   },
   "outputs": [],
   "source": [
    "from tqdm import tqdm\n",
    "tqdm.pandas()"
   ]
  },
  {
   "cell_type": "code",
   "execution_count": null,
   "metadata": {
    "id": "3JYiWxjrYpcz"
   },
   "outputs": [],
   "source": [
    "import ast"
   ]
  },
  {
   "cell_type": "code",
   "execution_count": null,
   "metadata": {
    "id": "AtnPRU-w41J8"
   },
   "outputs": [],
   "source": [
    "from timeit import default_timer as timer\n",
    "from datetime import timedelta"
   ]
  },
  {
   "cell_type": "code",
   "execution_count": null,
   "metadata": {
    "id": "CJYvo5quYThw"
   },
   "outputs": [],
   "source": [
    "train_papers = pd.read_csv('/content/drive/MyDrive/master_thesis/dataset_data/train/train_papers.csv')\n",
    "dev_papers = pd.read_csv('/content/drive/MyDrive/master_thesis/dataset_data/dev/dev_papers.csv')"
   ]
  },
  {
   "cell_type": "code",
   "execution_count": null,
   "metadata": {
    "id": "oTrGPd4GZo5-"
   },
   "outputs": [],
   "source": [
    "train_cases_data = pd.read_csv('/content/drive/MyDrive/master_thesis/dataset_data/train/train_cases.csv')\n",
    "dev_cases_data = pd.read_csv('/content/drive/MyDrive/master_thesis/dataset_data/train/dev_cases.csv')"
   ]
  },
  {
   "cell_type": "code",
   "execution_count": null,
   "metadata": {
    "colab": {
     "base_uri": "https://localhost:8080/"
    },
    "executionInfo": {
     "elapsed": 2348,
     "status": "ok",
     "timestamp": 1667905684196,
     "user": {
      "displayName": "Igor Pidik",
      "userId": "12606022177661543582"
     },
     "user_tz": -60
    },
    "id": "oZP-EU86cGJ9",
    "outputId": "42a76fa5-524b-4b06-e83d-046dbe16b089"
   },
   "outputs": [],
   "source": [
    "train_cases_data['ChallengeDescription_stemmed_joined'] = train_cases_data['ChallengeDescription_stemmed'].apply(lambda x: ' '.join(x))\n",
    "dev_cases_data['ChallengeDescription_stemmed_joined'] = dev_cases_data['ChallengeDescription_stemmed'].apply(lambda x: ' '.join(x))\n",
    "train_papers['abstract_stemmed_joined'] = train_papers['abstract_stemmed'].apply(lambda x: ' '.join(x))\n",
    "dev_papers['abstract_stemmed_joined'] = dev_papers['abstract_stemmed'].apply(lambda x: ' '.join(x))"
   ]
  },
  {
   "cell_type": "code",
   "execution_count": null,
   "metadata": {
    "id": "7jOZQYm0b_cR"
   },
   "outputs": [],
   "source": [
    "X_corpus = train_cases_data['ChallengeDescription_stemmed_joined'].tolist() + train_papers['abstract_stemmed_joined'].tolist()"
   ]
  },
  {
   "cell_type": "code",
   "execution_count": null,
   "metadata": {
    "colab": {
     "base_uri": "https://localhost:8080/"
    },
    "executionInfo": {
     "elapsed": 7,
     "status": "ok",
     "timestamp": 1667905684197,
     "user": {
      "displayName": "Igor Pidik",
      "userId": "12606022177661543582"
     },
     "user_tz": -60
    },
    "id": "VX1JRg3Acy4s",
    "outputId": "ac9bc05a-fc12-47df-e037-4c28d2a8e470"
   },
   "outputs": [],
   "source": [
    "len(X_corpus)"
   ]
  },
  {
   "cell_type": "code",
   "execution_count": null,
   "metadata": {
    "id": "K0vmsdZhc0IY"
   },
   "outputs": [],
   "source": [
    "vectorizer = TfidfVectorizer()"
   ]
  },
  {
   "cell_type": "code",
   "execution_count": null,
   "metadata": {
    "colab": {
     "base_uri": "https://localhost:8080/"
    },
    "executionInfo": {
     "elapsed": 36941,
     "status": "ok",
     "timestamp": 1667905721371,
     "user": {
      "displayName": "Igor Pidik",
      "userId": "12606022177661543582"
     },
     "user_tz": -60
    },
    "id": "j7h1KGt6Y8ll",
    "outputId": "c89ad9bd-23da-4901-d13d-7415dc745500"
   },
   "outputs": [],
   "source": [
    "start = timer()\n",
    "vectorizer.fit(X_corpus)\n",
    "end = timer()\n",
    "print(f\"total training time: {timedelta(seconds=end-start)}\")"
   ]
  },
  {
   "cell_type": "code",
   "execution_count": null,
   "metadata": {
    "id": "PmYt7GkX1J_U"
   },
   "outputs": [],
   "source": [
    "def vectorize_paper(stemmed_abstract):\n",
    "  return vectorizer.transform([stemmed_abstract])"
   ]
  },
  {
   "cell_type": "code",
   "execution_count": null,
   "metadata": {
    "id": "oWFA6pdcd9B9"
   },
   "outputs": [],
   "source": [
    "def get_description(case_id):\n",
    "  return cases_data[cases_data['CaseID'] == case_id].iloc[0]['ChallengeDescription_stemmed_joined']"
   ]
  },
  {
   "cell_type": "code",
   "execution_count": null,
   "metadata": {
    "id": "e2DpiOQReI2d"
   },
   "outputs": [],
   "source": [
    "def get_case_papers(case_id):\n",
    "  return train_papers[train_papers['case_id'] == case_id][['paper_id', 'type', 'abstract_stemmed_joined']]"
   ]
  },
  {
   "cell_type": "code",
   "execution_count": null,
   "metadata": {
    "id": "M-lObTbaedKM"
   },
   "outputs": [],
   "source": [
    "def get_paper(paper_id):\n",
    "  return train_papers[train_papers['paper_id'] == paper_id].iloc[0]['abstract_stemmed_joined']"
   ]
  },
  {
   "cell_type": "code",
   "execution_count": null,
   "metadata": {
    "id": "n7TvnDhLeX0A"
   },
   "outputs": [],
   "source": [
    "def check_embedding(case_id, paper_id, vecorizer):\n",
    "  description = get_description(case_id)\n",
    "  paper_abstract = get_paper(paper_id)\n",
    "\n",
    "  description_embedding = vectorizer.transform([description])\n",
    "  abstract_embedding = vectorizer.transform([paper_abstract])\n",
    "  return cosine_similarity(description_embedding, abstract_embedding).flatten()"
   ]
  },
  {
   "cell_type": "code",
   "execution_count": null,
   "metadata": {
    "id": "O1Vq5ztE3J3N"
   },
   "outputs": [],
   "source": [
    "def get_case_embedding(df, case_id):\n",
    "  return df[df['CaseID'] == case_id].iloc[0]['embedding']"
   ]
  },
  {
   "cell_type": "code",
   "execution_count": null,
   "metadata": {
    "id": "ppi77S533UUh"
   },
   "outputs": [],
   "source": [
    "def get_similarity_with_case_descriptions(df, embedding, case_id):\n",
    "  case_embedding = get_case_embedding(df, case_id)\n",
    "  return cosine_similarity(case_embedding, embedding).flatten()[0]"
   ]
  },
  {
   "cell_type": "code",
   "execution_count": null,
   "metadata": {
    "id": "SuHyBTJjaxCB"
   },
   "outputs": [],
   "source": [
    "def plot_cm(target_y, pred_y, labels):\n",
    "  cm = confusion_matrix(target_y, pred_y, labels=labels)\n",
    "  disp = ConfusionMatrixDisplay(confusion_matrix=cm, display_labels=labels)\n",
    "  disp.plot()\n",
    "  plt.show()"
   ]
  },
  {
   "cell_type": "code",
   "execution_count": null,
   "metadata": {
    "id": "T1U2yFGbb99i"
   },
   "outputs": [],
   "source": [
    "def convert_y_to_label(y):\n",
    "  labels = []\n",
    "  for item in y:\n",
    "    if item:\n",
    "      labels.append('associated_paper')\n",
    "    else:\n",
    "      labels.append('irrelevant_paper')\n",
    "  return labels"
   ]
  },
  {
   "cell_type": "markdown",
   "metadata": {
    "id": "XzTjGC4kMkTK"
   },
   "source": [
    "# Train set eval"
   ]
  },
  {
   "cell_type": "code",
   "execution_count": null,
   "metadata": {
    "colab": {
     "base_uri": "https://localhost:8080/"
    },
    "executionInfo": {
     "elapsed": 2967,
     "status": "ok",
     "timestamp": 1667905724766,
     "user": {
      "displayName": "Igor Pidik",
      "userId": "12606022177661543582"
     },
     "user_tz": -60
    },
    "id": "nLDIy3n9Mlmg",
    "outputId": "7fe6106c-5d97-4eee-beb9-0a51b1a44a0c"
   },
   "outputs": [],
   "source": [
    "train_cases_data['embedding'] = train_cases_data['ChallengeDescription_stemmed_joined'].progress_apply(lambda x: vectorizer.transform([x]))"
   ]
  },
  {
   "cell_type": "code",
   "execution_count": null,
   "metadata": {
    "colab": {
     "base_uri": "https://localhost:8080/"
    },
    "executionInfo": {
     "elapsed": 1262993,
     "status": "ok",
     "timestamp": 1667907712471,
     "user": {
      "displayName": "Igor Pidik",
      "userId": "12606022177661543582"
     },
     "user_tz": -60
    },
    "id": "SOYAbpe6Mu1M",
    "outputId": "71ac3aca-75c8-423d-d7b2-1a41a2f2c551"
   },
   "outputs": [],
   "source": [
    "train_papers['embedding'] = train_papers['abstract_stemmed_joined'].progress_apply(lambda x: vectorizer.transform([x]))\n",
    "train_papers['case_embedding_similarity'] = train_papers.progress_apply(lambda x: get_similarity_with_case_descriptions(train_cases_data, x.embedding, x.case_id), axis=1)"
   ]
  },
  {
   "cell_type": "code",
   "execution_count": null,
   "metadata": {
    "colab": {
     "base_uri": "https://localhost:8080/"
    },
    "id": "PEqGmuqsUVFK",
    "outputId": "6a9b75b7-87d4-4d87-bd0b-8e11eadfd198"
   },
   "outputs": [],
   "source": [
    "train_papers['case_embedding_similarity'] = train_papers.progress_apply(lambda x: get_similarity_with_case_descriptions(train_cases_data, x.embedding, x.case_id), axis=1)"
   ]
  },
  {
   "cell_type": "code",
   "execution_count": null,
   "metadata": {
    "colab": {
     "base_uri": "https://localhost:8080/",
     "height": 297
    },
    "executionInfo": {
     "elapsed": 2106,
     "status": "ok",
     "timestamp": 1667909159343,
     "user": {
      "displayName": "Igor Pidik",
      "userId": "12606022177661543582"
     },
     "user_tz": -60
    },
    "id": "wDnyuulc6J_5",
    "outputId": "76298b80-dd1a-4ec7-f3f6-5408a7296fda"
   },
   "outputs": [],
   "source": [
    "precision, recall, thresholds = precision_recall_curve(train_papers['type'] == 'associated_paper', train_papers['case_embedding_similarity'])\n",
    "fscore = (2 * precision * recall) / (precision + recall)\n",
    "# locate the index of the largest f score\n",
    "ix = np.argmax(fscore)\n",
    "optimal_threshold = thresholds[ix]\n",
    "print('Best Threshold=%f, F-Score=%.3f' % (thresholds[ix], fscore[ix]))\n",
    "\n",
    "plt.plot(recall, precision)\n",
    "plt.scatter(recall[ix], precision[ix], marker='o', color='black', label='Best')\n",
    "# axis labels\n",
    "plt.xlabel('Recall')\n",
    "plt.ylabel('Precision')\n",
    "plt.legend()\n",
    "# show the plot\n",
    "plt.show()"
   ]
  },
  {
   "cell_type": "code",
   "execution_count": null,
   "metadata": {
    "colab": {
     "base_uri": "https://localhost:8080/",
     "height": 441
    },
    "executionInfo": {
     "elapsed": 13771,
     "status": "ok",
     "timestamp": 1667909173110,
     "user": {
      "displayName": "Igor Pidik",
      "userId": "12606022177661543582"
     },
     "user_tz": -60
    },
    "id": "Z5-r0s9bNCAb",
    "outputId": "753d8879-f6d9-4e5f-a6af-d4cd3aa8320c"
   },
   "outputs": [],
   "source": [
    "train_papers['pred_is_associated'] = train_papers['case_embedding_similarity'].apply(lambda x: x >= optimal_threshold)\n",
    "y_target = convert_y_to_label(train_papers['type'] == 'associated_paper')\n",
    "y_pred = convert_y_to_label(train_papers['pred_is_associated'])\n",
    "plot_cm(y_target, y_pred, ['associated_paper', 'irrelevant_paper'])\n",
    "print(classification_report(y_target, y_pred, digits=4))"
   ]
  },
  {
   "cell_type": "markdown",
   "metadata": {
    "id": "jpquYfNSMgH9"
   },
   "source": [
    "# Dev set eval"
   ]
  },
  {
   "cell_type": "code",
   "execution_count": null,
   "metadata": {
    "colab": {
     "base_uri": "https://localhost:8080/"
    },
    "executionInfo": {
     "elapsed": 917,
     "status": "ok",
     "timestamp": 1667909174020,
     "user": {
      "displayName": "Igor Pidik",
      "userId": "12606022177661543582"
     },
     "user_tz": -60
    },
    "id": "rCeq3Omc1utT",
    "outputId": "678a639b-04f1-43bd-ad16-9f9f4ea512a3"
   },
   "outputs": [],
   "source": [
    "dev_cases_data['embedding'] = dev_cases_data['ChallengeDescription_stemmed_joined'].progress_apply(lambda x: vectorizer.transform([x]))"
   ]
  },
  {
   "cell_type": "code",
   "execution_count": null,
   "metadata": {
    "colab": {
     "base_uri": "https://localhost:8080/"
    },
    "executionInfo": {
     "elapsed": 338772,
     "status": "ok",
     "timestamp": 1667909512789,
     "user": {
      "displayName": "Igor Pidik",
      "userId": "12606022177661543582"
     },
     "user_tz": -60
    },
    "id": "nd02PPvG16Y9",
    "outputId": "3dddc2d8-d872-46c9-87ca-dccf1fb70f8c"
   },
   "outputs": [],
   "source": [
    "dev_papers['embedding'] = dev_papers['abstract_stemmed_joined'].progress_apply(lambda x: vectorizer.transform([x]))"
   ]
  },
  {
   "cell_type": "code",
   "execution_count": null,
   "metadata": {
    "colab": {
     "base_uri": "https://localhost:8080/"
    },
    "executionInfo": {
     "elapsed": 104075,
     "status": "ok",
     "timestamp": 1667909616857,
     "user": {
      "displayName": "Igor Pidik",
      "userId": "12606022177661543582"
     },
     "user_tz": -60
    },
    "id": "czj7vSzc3_Sf",
    "outputId": "d4ab7563-0b2a-49ff-d2ea-1cfea842b5f7"
   },
   "outputs": [],
   "source": [
    "dev_papers['case_embedding_similarity'] = dev_papers.progress_apply(lambda x: get_similarity_with_case_descriptions(dev_cases_data, x.embedding, x.case_id), axis=1)"
   ]
  },
  {
   "cell_type": "code",
   "execution_count": null,
   "metadata": {
    "colab": {
     "base_uri": "https://localhost:8080/"
    },
    "executionInfo": {
     "elapsed": 12,
     "status": "ok",
     "timestamp": 1667909616857,
     "user": {
      "displayName": "Igor Pidik",
      "userId": "12606022177661543582"
     },
     "user_tz": -60
    },
    "id": "8mzhLF-25gMG",
    "outputId": "dfcb4d34-456d-4140-eec9-cea08d1972b3"
   },
   "outputs": [],
   "source": [
    "dev_papers['case_embedding_similarity'].describe()"
   ]
  },
  {
   "cell_type": "code",
   "execution_count": null,
   "metadata": {
    "colab": {
     "base_uri": "https://localhost:8080/"
    },
    "executionInfo": {
     "elapsed": 9,
     "status": "ok",
     "timestamp": 1667909616858,
     "user": {
      "displayName": "Igor Pidik",
      "userId": "12606022177661543582"
     },
     "user_tz": -60
    },
    "id": "Ke3Rz3vP47WV",
    "outputId": "34f490b8-6886-49b0-e899-c20fc85c08e7"
   },
   "outputs": [],
   "source": [
    "dev_papers[dev_papers['type'] == 'associated_paper']['case_embedding_similarity'].describe()"
   ]
  },
  {
   "cell_type": "code",
   "execution_count": null,
   "metadata": {
    "colab": {
     "base_uri": "https://localhost:8080/"
    },
    "executionInfo": {
     "elapsed": 340,
     "status": "ok",
     "timestamp": 1667909617191,
     "user": {
      "displayName": "Igor Pidik",
      "userId": "12606022177661543582"
     },
     "user_tz": -60
    },
    "id": "doJ3xpcq5sZo",
    "outputId": "4386108e-ef8b-4e50-cf19-3899777b437f"
   },
   "outputs": [],
   "source": [
    "dev_papers[dev_papers['type'] == 'semirelevant_papers']['case_embedding_similarity'].describe()"
   ]
  },
  {
   "cell_type": "code",
   "execution_count": null,
   "metadata": {
    "colab": {
     "base_uri": "https://localhost:8080/"
    },
    "executionInfo": {
     "elapsed": 5,
     "status": "ok",
     "timestamp": 1667909617192,
     "user": {
      "displayName": "Igor Pidik",
      "userId": "12606022177661543582"
     },
     "user_tz": -60
    },
    "id": "cZp7lBPq1lIi",
    "outputId": "40f51433-63d1-4734-871f-9f02cd235dd3"
   },
   "outputs": [],
   "source": [
    "dev_papers[dev_papers['type'] == 'irrelevant_papers']['case_embedding_similarity'].describe()"
   ]
  },
  {
   "cell_type": "code",
   "execution_count": null,
   "metadata": {
    "executionInfo": {
     "elapsed": 3,
     "status": "ok",
     "timestamp": 1667909617192,
     "user": {
      "displayName": "Igor Pidik",
      "userId": "12606022177661543582"
     },
     "user_tz": -60
    },
    "id": "nHNy5UO76gZy"
   },
   "outputs": [],
   "source": [
    "from yellowbrick.text import TSNEVisualizer"
   ]
  },
  {
   "cell_type": "code",
   "execution_count": null,
   "metadata": {
    "colab": {
     "base_uri": "https://localhost:8080/",
     "height": 508
    },
    "executionInfo": {
     "elapsed": 11928,
     "status": "ok",
     "timestamp": 1667909629117,
     "user": {
      "displayName": "Igor Pidik",
      "userId": "12606022177661543582"
     },
     "user_tz": -60
    },
    "id": "ZkbuCO8h993d",
    "outputId": "2d03070c-7aa4-4554-a310-583eba203ebc"
   },
   "outputs": [],
   "source": [
    "case = dev_papers[dev_papers['case_id'] == 64]\n",
    "X_case = vectorizer.transform(case['abstract_stemmed_joined'].tolist())\n",
    "y_case = case['type'].tolist()\n",
    "case_tsne = TSNEVisualizer()\n",
    "case_tsne.fit(X_case, y_case)\n",
    "case_tsne.show()"
   ]
  },
  {
   "cell_type": "code",
   "execution_count": null,
   "metadata": {
    "colab": {
     "base_uri": "https://localhost:8080/",
     "height": 379
    },
    "executionInfo": {
     "elapsed": 542,
     "status": "ok",
     "timestamp": 1667909629654,
     "user": {
      "displayName": "Igor Pidik",
      "userId": "12606022177661543582"
     },
     "user_tz": -60
    },
    "id": "fCeJrd2ZBJRW",
    "outputId": "cef60fd9-f32d-41e7-f559-886b93397584"
   },
   "outputs": [],
   "source": [
    "precision, recall, thresholds = precision_recall_curve(dev_papers['type'] == 'associated_paper', dev_papers['case_embedding_similarity'])\n",
    "fscore = (2 * precision * recall) / (precision + recall)\n",
    "# locate the index of the largest f score\n",
    "ix = np.argmax(fscore)\n",
    "optimal_threshold = thresholds[ix]\n",
    "print('Best Threshold=%f, F-Score=%.3f' % (thresholds[ix], fscore[ix]))\n",
    "\n",
    "plt.plot(recall, precision)\n",
    "plt.scatter(recall[ix], precision[ix], marker='o', color='black', label='Best')\n",
    "# axis labels\n",
    "plt.xlabel('Recall')\n",
    "plt.ylabel('Precision')\n",
    "plt.legend()\n",
    "# show the plot\n",
    "plt.show()"
   ]
  },
  {
   "cell_type": "code",
   "execution_count": null,
   "metadata": {
    "executionInfo": {
     "elapsed": 8,
     "status": "ok",
     "timestamp": 1667909629655,
     "user": {
      "displayName": "Igor Pidik",
      "userId": "12606022177661543582"
     },
     "user_tz": -60
    },
    "id": "1ytSzUnhCK2C"
   },
   "outputs": [],
   "source": [
    "dev_papers['pred_is_associated'] = dev_papers['case_embedding_similarity'].apply(lambda x: x >= optimal_threshold)"
   ]
  },
  {
   "cell_type": "code",
   "execution_count": null,
   "metadata": {
    "executionInfo": {
     "elapsed": 7,
     "status": "ok",
     "timestamp": 1667909629655,
     "user": {
      "displayName": "Igor Pidik",
      "userId": "12606022177661543582"
     },
     "user_tz": -60
    },
    "id": "oCpJz5p6D4Eg"
   },
   "outputs": [],
   "source": [
    "y_target = convert_y_to_label(dev_papers['type'] == 'associated_paper')\n",
    "y_pred = convert_y_to_label(dev_papers['pred_is_associated'])"
   ]
  },
  {
   "cell_type": "code",
   "execution_count": null,
   "metadata": {
    "colab": {
     "base_uri": "https://localhost:8080/",
     "height": 361
    },
    "executionInfo": {
     "elapsed": 8,
     "status": "ok",
     "timestamp": 1667909629656,
     "user": {
      "displayName": "Igor Pidik",
      "userId": "12606022177661543582"
     },
     "user_tz": -60
    },
    "id": "5AX02GtMbR80",
    "outputId": "2ccc8c68-3f78-45ab-8f9c-e99b20b2347b"
   },
   "outputs": [],
   "source": [
    "plot_cm(y_target, y_pred, ['associated_paper', 'irrelevant_paper'])"
   ]
  },
  {
   "cell_type": "code",
   "execution_count": null,
   "metadata": {
    "colab": {
     "base_uri": "https://localhost:8080/"
    },
    "executionInfo": {
     "elapsed": 1625,
     "status": "ok",
     "timestamp": 1667909631274,
     "user": {
      "displayName": "Igor Pidik",
      "userId": "12606022177661543582"
     },
     "user_tz": -60
    },
    "id": "z6mrZzt0ce7_",
    "outputId": "ee5374e8-fb56-4835-cc84-f9ddb0da3d1c"
   },
   "outputs": [],
   "source": [
    "print(classification_report(y_target, y_pred, digits=4))"
   ]
  },
  {
   "cell_type": "markdown",
   "metadata": {
    "id": "iyUd5nSEJqVN"
   },
   "source": [
    "# Test set"
   ]
  },
  {
   "cell_type": "code",
   "execution_count": null,
   "metadata": {
    "colab": {
     "base_uri": "https://localhost:8080/"
    },
    "executionInfo": {
     "elapsed": 30263,
     "status": "ok",
     "timestamp": 1667909661534,
     "user": {
      "displayName": "Igor Pidik",
      "userId": "12606022177661543582"
     },
     "user_tz": -60
    },
    "id": "Ruz8mGJxERtL",
    "outputId": "d4721fcd-7c9e-469b-92a5-95697c67b46f"
   },
   "outputs": [],
   "source": [
    "test_papers = pd.read_csv('/content/drive/MyDrive/master_thesis/dataset_data/test/test_papers.csv')\n",
    "test_cases_data = pd.read_csv('/content/drive/MyDrive/master_thesis/dataset_data/test/test_cases.csv')\n",
    "test_cases_data['ChallengeDescription_stemmed'] = test_cases_data['ChallengeDescription_stemmed'].progress_apply(ast.literal_eval)\n",
    "test_papers['abstract_stemmed_joined'] = test_papers['abstract_stemmed'].apply(lambda x: ' '.join(x))"
   ]
  },
  {
   "cell_type": "code",
   "execution_count": null,
   "metadata": {
    "colab": {
     "base_uri": "https://localhost:8080/"
    },
    "executionInfo": {
     "elapsed": 10,
     "status": "ok",
     "timestamp": 1667909661534,
     "user": {
      "displayName": "Igor Pidik",
      "userId": "12606022177661543582"
     },
     "user_tz": -60
    },
    "id": "niVVLVlRNpES",
    "outputId": "19faf1f2-9a3b-4184-8dc7-86cadf743da0"
   },
   "outputs": [],
   "source": [
    "test_cases_data['ChallengeDescription_stemmed_joined'] = test_cases_data['ChallengeDescription_stemmed'].apply(lambda x: ' '.join(x))"
   ]
  },
  {
   "cell_type": "code",
   "execution_count": null,
   "metadata": {
    "colab": {
     "base_uri": "https://localhost:8080/"
    },
    "executionInfo": {
     "elapsed": 859,
     "status": "ok",
     "timestamp": 1667909662387,
     "user": {
      "displayName": "Igor Pidik",
      "userId": "12606022177661543582"
     },
     "user_tz": -60
    },
    "id": "YcfzL_3LNf9N",
    "outputId": "f8ae8789-2e8b-45f6-ba74-180d6467a606"
   },
   "outputs": [],
   "source": [
    "test_cases_data['embedding'] = test_cases_data['ChallengeDescription_stemmed_joined'].progress_apply(lambda x: vectorizer.transform([x]))"
   ]
  },
  {
   "cell_type": "code",
   "execution_count": null,
   "metadata": {
    "colab": {
     "base_uri": "https://localhost:8080/"
    },
    "executionInfo": {
     "elapsed": 238936,
     "status": "ok",
     "timestamp": 1667909901318,
     "user": {
      "displayName": "Igor Pidik",
      "userId": "12606022177661543582"
     },
     "user_tz": -60
    },
    "id": "BS9pAG7TLgXi",
    "outputId": "f89bdde8-f63d-4c85-e3e4-3936e67f2792"
   },
   "outputs": [],
   "source": [
    "test_papers['embedding'] = test_papers['abstract_stemmed_joined'].progress_apply(lambda x: vectorizer.transform([x]))"
   ]
  },
  {
   "cell_type": "code",
   "execution_count": null,
   "metadata": {
    "colab": {
     "base_uri": "https://localhost:8080/"
    },
    "executionInfo": {
     "elapsed": 24008,
     "status": "ok",
     "timestamp": 1667910233702,
     "user": {
      "displayName": "Igor Pidik",
      "userId": "12606022177661543582"
     },
     "user_tz": -60
    },
    "id": "wRfoyB7KMEMt",
    "outputId": "e57b5de3-9662-45c5-cfaa-92bd318cb2f9"
   },
   "outputs": [],
   "source": [
    "test_papers['case_embedding'] = test_papers.progress_apply(lambda x: get_case_embedding(test_cases_data, x.case_id), axis=1)"
   ]
  },
  {
   "cell_type": "code",
   "execution_count": null,
   "metadata": {
    "colab": {
     "base_uri": "https://localhost:8080/"
    },
    "executionInfo": {
     "elapsed": 62560,
     "status": "ok",
     "timestamp": 1667910467138,
     "user": {
      "displayName": "Igor Pidik",
      "userId": "12606022177661543582"
     },
     "user_tz": -60
    },
    "id": "ydcREYJaKJOn",
    "outputId": "047497fa-b0f2-43c9-fcae-79c9d29d070c"
   },
   "outputs": [],
   "source": [
    "test_papers['case_embedding_similarity'] = test_papers.progress_apply(lambda x: cosine_similarity(x['case_embedding'], x['embedding'])[0][0], axis=1)"
   ]
  },
  {
   "cell_type": "code",
   "execution_count": null,
   "metadata": {
    "executionInfo": {
     "elapsed": 6,
     "status": "ok",
     "timestamp": 1667909989087,
     "user": {
      "displayName": "Igor Pidik",
      "userId": "12606022177661543582"
     },
     "user_tz": -60
    },
    "id": "MqwwEdNYLuK3"
   },
   "outputs": [],
   "source": [
    "test_papers['pred_is_associated'] = test_papers['case_embedding_similarity'].apply(lambda x: x >= optimal_threshold)"
   ]
  },
  {
   "cell_type": "code",
   "execution_count": null,
   "metadata": {
    "colab": {
     "base_uri": "https://localhost:8080/",
     "height": 522
    },
    "executionInfo": {
     "elapsed": 369,
     "status": "ok",
     "timestamp": 1667909989451,
     "user": {
      "displayName": "Igor Pidik",
      "userId": "12606022177661543582"
     },
     "user_tz": -60
    },
    "id": "YxQfq7jnL7K8",
    "outputId": "4f82a266-5fb8-462f-84da-c74d32914b86"
   },
   "outputs": [],
   "source": [
    "y_test_target = convert_y_to_label(test_papers['type'] == 'associated_paper')\n",
    "y_test_pred = convert_y_to_label(test_papers['pred_is_associated'])\n",
    "plot_cm(y_test_target, y_test_pred, ['associated_paper', 'irrelevant_paper'])\n",
    "print(classification_report(y_test_target, y_test_pred, digits=4))"
   ]
  }
 ],
 "metadata": {
  "colab": {
   "authorship_tag": "ABX9TyNfqG1izTGsQg7Ikp/8YZI3",
   "collapsed_sections": [],
   "provenance": []
  },
  "kernelspec": {
   "display_name": "Python 3 (ipykernel)",
   "language": "python",
   "name": "python3"
  },
  "language_info": {
   "codemirror_mode": {
    "name": "ipython",
    "version": 3
   },
   "file_extension": ".py",
   "mimetype": "text/x-python",
   "name": "python",
   "nbconvert_exporter": "python",
   "pygments_lexer": "ipython3",
   "version": "3.9.13"
  }
 },
 "nbformat": 4,
 "nbformat_minor": 4
}

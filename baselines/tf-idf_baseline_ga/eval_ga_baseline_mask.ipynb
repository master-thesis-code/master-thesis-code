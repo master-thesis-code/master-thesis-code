{
 "cells": [
  {
   "cell_type": "code",
   "execution_count": null,
   "metadata": {
    "colab": {
     "base_uri": "https://localhost:8080/"
    },
    "executionInfo": {
     "elapsed": 19760,
     "status": "ok",
     "timestamp": 1667909341812,
     "user": {
      "displayName": "Igor Pidik",
      "userId": "12606022177661543582"
     },
     "user_tz": -60
    },
    "id": "W6qYM0DXBaMf",
    "outputId": "ca822941-cc20-489a-ea1f-65485c37312c"
   },
   "outputs": [],
   "source": [
    "from google.colab import drive\n",
    "drive.mount('/content/drive')"
   ]
  },
  {
   "cell_type": "code",
   "execution_count": null,
   "metadata": {
    "executionInfo": {
     "elapsed": 362,
     "status": "ok",
     "timestamp": 1667909342170,
     "user": {
      "displayName": "Igor Pidik",
      "userId": "12606022177661543582"
     },
     "user_tz": -60
    },
    "id": "XG6KsuFkCcxb"
   },
   "outputs": [],
   "source": [
    "import pandas as pd\n",
    "import numpy as np\n",
    "import pickle"
   ]
  },
  {
   "cell_type": "code",
   "execution_count": null,
   "metadata": {
    "executionInfo": {
     "elapsed": 3,
     "status": "ok",
     "timestamp": 1667909342170,
     "user": {
      "displayName": "Igor Pidik",
      "userId": "12606022177661543582"
     },
     "user_tz": -60
    },
    "id": "uN1n_7eeuoN4"
   },
   "outputs": [],
   "source": [
    "from tqdm import tqdm\n",
    "tqdm.pandas()\n",
    "import ast"
   ]
  },
  {
   "cell_type": "code",
   "execution_count": null,
   "metadata": {
    "executionInfo": {
     "elapsed": 1931,
     "status": "ok",
     "timestamp": 1667909344099,
     "user": {
      "displayName": "Igor Pidik",
      "userId": "12606022177661543582"
     },
     "user_tz": -60
    },
    "id": "ATQx0g9sDwFk"
   },
   "outputs": [],
   "source": [
    "import matplotlib.pyplot as plt\n",
    "from sklearn.metrics import confusion_matrix, ConfusionMatrixDisplay\n",
    "from sklearn.metrics import classification_report"
   ]
  },
  {
   "cell_type": "code",
   "execution_count": null,
   "metadata": {
    "executionInfo": {
     "elapsed": 9,
     "status": "ok",
     "timestamp": 1667909344100,
     "user": {
      "displayName": "Igor Pidik",
      "userId": "12606022177661543582"
     },
     "user_tz": -60
    },
    "id": "KZYsqaAUc2gu"
   },
   "outputs": [],
   "source": [
    "from sklearn.metrics.pairwise import cosine_similarity"
   ]
  },
  {
   "cell_type": "code",
   "execution_count": null,
   "metadata": {
    "executionInfo": {
     "elapsed": 7,
     "status": "ok",
     "timestamp": 1667909344100,
     "user": {
      "displayName": "Igor Pidik",
      "userId": "12606022177661543582"
     },
     "user_tz": -60
    },
    "id": "fH0B6R5Vguwa"
   },
   "outputs": [],
   "source": [
    "import pickle"
   ]
  },
  {
   "cell_type": "code",
   "execution_count": null,
   "metadata": {
    "id": "ItMTHqqngtKC"
   },
   "outputs": [],
   "source": [
    "vectorizer = pickle.load(open(\"/content/drive/MyDrive/master_thesis/baselines/vectorizer/tfidf.pickle\", \"rb\"))"
   ]
  },
  {
   "cell_type": "code",
   "execution_count": null,
   "metadata": {
    "executionInfo": {
     "elapsed": 8,
     "status": "ok",
     "timestamp": 1667909344101,
     "user": {
      "displayName": "Igor Pidik",
      "userId": "12606022177661543582"
     },
     "user_tz": -60
    },
    "id": "2oMUpbAsg0JA"
   },
   "outputs": [],
   "source": [
    "mask = np.load('/content/drive/MyDrive/master_thesis/baselines/tf-idf_baseline_ga/mask/best_mask.npz')['mask']"
   ]
  },
  {
   "cell_type": "code",
   "execution_count": null,
   "metadata": {
    "id": "o2ILXBVIgy5B"
   },
   "outputs": [],
   "source": [
    "def vectorize(x):\n",
    "  return vectorizer.transform(x).multiply(mask)"
   ]
  },
  {
   "cell_type": "code",
   "execution_count": null,
   "metadata": {
    "id": "O1Vq5ztE3J3N"
   },
   "outputs": [],
   "source": [
    "def get_case_embedding(df, case_id):\n",
    "  return df[df['CaseID'] == case_id].iloc[0]['embedding']"
   ]
  },
  {
   "cell_type": "code",
   "execution_count": null,
   "metadata": {
    "id": "ppi77S533UUh"
   },
   "outputs": [],
   "source": [
    "def get_similarity_with_case_descriptions(df, embedding, case_id):\n",
    "  case_embedding = get_case_embedding(df, case_id)\n",
    "  return cosine_similarity(case_embedding, embedding).flatten()[0]"
   ]
  },
  {
   "cell_type": "code",
   "execution_count": null,
   "metadata": {
    "id": "G3n3YfNSBYvN"
   },
   "outputs": [],
   "source": [
    "import sklearn.metrics as metrics\n",
    "import matplotlib.pyplot as plt"
   ]
  },
  {
   "cell_type": "code",
   "execution_count": null,
   "metadata": {
    "id": "T1U2yFGbb99i"
   },
   "outputs": [],
   "source": [
    "def convert_y_to_label(y):\n",
    "  labels = []\n",
    "  for item in y:\n",
    "    if item:\n",
    "      labels.append('associated_paper')\n",
    "    else:\n",
    "      labels.append('irrelevant_paper')\n",
    "  return labels"
   ]
  },
  {
   "cell_type": "code",
   "execution_count": null,
   "metadata": {
    "id": "cKB5IMGYj3aa"
   },
   "outputs": [],
   "source": [
    "def plot_cm(target_y, pred_y, labels):\n",
    "  cm = confusion_matrix(target_y, pred_y, labels=labels)\n",
    "  disp = ConfusionMatrixDisplay(confusion_matrix=cm, display_labels=labels)\n",
    "  disp.plot()\n",
    "  plt.show()"
   ]
  },
  {
   "cell_type": "markdown",
   "metadata": {
    "id": "OYWHKE7vO8l9"
   },
   "source": [
    "# Test with mask"
   ]
  },
  {
   "cell_type": "code",
   "execution_count": null,
   "metadata": {
    "colab": {
     "base_uri": "https://localhost:8080/"
    },
    "executionInfo": {
     "elapsed": 32988,
     "status": "ok",
     "timestamp": 1662983979056,
     "user": {
      "displayName": "Igor Pidik",
      "userId": "12606022177661543582"
     },
     "user_tz": -120
    },
    "id": "Ruz8mGJxERtL",
    "outputId": "ffa9753a-c5d5-47cf-9c4f-1a397d385f16"
   },
   "outputs": [],
   "source": [
    "test_papers = pd.read_csv('/content/drive/MyDrive/master_thesis/dataset_data/test/test_papers.csv')\n",
    "test_cases_data = pd.read_csv('/content/drive/MyDrive/master_thesis/dataset_data/test/test_cases.csv')\n",
    "test_cases_data['ChallengeDescription_stemmed'] = test_cases_data['ChallengeDescription_stemmed'].progress_apply(ast.literal_eval)\n",
    "test_papers['abstract_stemmed_joined'] = test_papers['abstract_stemmed'].apply(lambda x: ' '.join(x))"
   ]
  },
  {
   "cell_type": "code",
   "execution_count": null,
   "metadata": {
    "colab": {
     "base_uri": "https://localhost:8080/"
    },
    "executionInfo": {
     "elapsed": 11,
     "status": "ok",
     "timestamp": 1662983979057,
     "user": {
      "displayName": "Igor Pidik",
      "userId": "12606022177661543582"
     },
     "user_tz": -120
    },
    "id": "niVVLVlRNpES",
    "outputId": "a93beeb0-8f99-4ade-b7e5-880cae336117"
   },
   "outputs": [],
   "source": [
    "test_cases_data['ChallengeDescription_stemmed_joined'] = test_cases_data['ChallengeDescription_stemmed'].apply(lambda x: ' '.join(x))"
   ]
  },
  {
   "cell_type": "code",
   "execution_count": null,
   "metadata": {
    "colab": {
     "base_uri": "https://localhost:8080/"
    },
    "executionInfo": {
     "elapsed": 19,
     "status": "ok",
     "timestamp": 1662984015582,
     "user": {
      "displayName": "Igor Pidik",
      "userId": "12606022177661543582"
     },
     "user_tz": -120
    },
    "id": "YcfzL_3LNf9N",
    "outputId": "59954d81-8382-4b7d-933b-d9c5ec52902e"
   },
   "outputs": [],
   "source": [
    "test_cases_data['embedding'] = test_cases_data['ChallengeDescription_stemmed_joined'].progress_apply(lambda x: vectorize([x]))"
   ]
  },
  {
   "cell_type": "code",
   "execution_count": null,
   "metadata": {
    "colab": {
     "base_uri": "https://localhost:8080/"
    },
    "executionInfo": {
     "elapsed": 36532,
     "status": "ok",
     "timestamp": 1662984015581,
     "user": {
      "displayName": "Igor Pidik",
      "userId": "12606022177661543582"
     },
     "user_tz": -120
    },
    "id": "BS9pAG7TLgXi",
    "outputId": "a25adcba-f725-45e1-966c-857f8c8c6e24"
   },
   "outputs": [],
   "source": [
    "test_papers['embedding'] = test_papers['abstract_stemmed_joined'].progress_apply(lambda x: vectorize([x]))"
   ]
  },
  {
   "cell_type": "code",
   "execution_count": null,
   "metadata": {
    "colab": {
     "base_uri": "https://localhost:8080/"
    },
    "executionInfo": {
     "elapsed": 69321,
     "status": "ok",
     "timestamp": 1662984084889,
     "user": {
      "displayName": "Igor Pidik",
      "userId": "12606022177661543582"
     },
     "user_tz": -120
    },
    "id": "ydcREYJaKJOn",
    "outputId": "29ca763b-53cd-4408-f21a-560dd3a0baf5"
   },
   "outputs": [],
   "source": [
    "test_papers['case_embedding_similarity'] = test_papers.progress_apply(lambda x: get_similarity_with_case_descriptions(test_cases_data, x.embedding, x.case_id), axis=1)"
   ]
  },
  {
   "cell_type": "code",
   "execution_count": null,
   "metadata": {},
   "outputs": [],
   "source": [
    "optimal_threshold = -0.01031448"
   ]
  },
  {
   "cell_type": "code",
   "execution_count": null,
   "metadata": {
    "id": "MqwwEdNYLuK3"
   },
   "outputs": [],
   "source": [
    "test_papers['pred_is_associated'] = test_papers['case_embedding_similarity'].apply(lambda x: x >= optimal_threshold)"
   ]
  },
  {
   "cell_type": "code",
   "execution_count": null,
   "metadata": {
    "colab": {
     "base_uri": "https://localhost:8080/",
     "height": 445
    },
    "executionInfo": {
     "elapsed": 1095,
     "status": "ok",
     "timestamp": 1662984087232,
     "user": {
      "displayName": "Igor Pidik",
      "userId": "12606022177661543582"
     },
     "user_tz": -120
    },
    "id": "YxQfq7jnL7K8",
    "outputId": "0978d543-0e48-4472-90fe-d9a13604d97b"
   },
   "outputs": [],
   "source": [
    "y_test_target = convert_y_to_label(test_papers['type'] == 'associated_paper')\n",
    "y_test_pred = convert_y_to_label(test_papers['pred_is_associated'])\n",
    "plot_cm(y_test_target, y_test_pred, ['associated_paper', 'irrelevant_paper'])\n",
    "print(classification_report(y_test_target, y_test_pred, digits=4))"
   ]
  }
 ],
 "metadata": {
  "colab": {
   "authorship_tag": "ABX9TyODZq04GK3AdAsmIn8bKP2p",
   "collapsed_sections": [],
   "provenance": []
  },
  "kernelspec": {
   "display_name": "Python 3 (ipykernel)",
   "language": "python",
   "name": "python3"
  },
  "language_info": {
   "codemirror_mode": {
    "name": "ipython",
    "version": 3
   },
   "file_extension": ".py",
   "mimetype": "text/x-python",
   "name": "python",
   "nbconvert_exporter": "python",
   "pygments_lexer": "ipython3",
   "version": "3.9.13"
  }
 },
 "nbformat": 4,
 "nbformat_minor": 4
}

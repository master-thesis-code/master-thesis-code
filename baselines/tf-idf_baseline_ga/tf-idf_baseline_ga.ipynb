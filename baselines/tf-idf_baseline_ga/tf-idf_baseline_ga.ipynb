{
 "cells": [
  {
   "cell_type": "code",
   "execution_count": null,
   "metadata": {
    "colab": {
     "base_uri": "https://localhost:8080/"
    },
    "executionInfo": {
     "elapsed": 14775,
     "status": "ok",
     "timestamp": 1662634134778,
     "user": {
      "displayName": "Igor Pidik",
      "userId": "12606022177661543582"
     },
     "user_tz": -120
    },
    "id": "W6qYM0DXBaMf",
    "outputId": "9cd0dc41-9aa3-4ac4-be0a-7499a8ffd310"
   },
   "outputs": [],
   "source": [
    "from google.colab import drive\n",
    "drive.mount('/content/drive')"
   ]
  },
  {
   "cell_type": "code",
   "execution_count": null,
   "metadata": {
    "id": "XG6KsuFkCcxb"
   },
   "outputs": [],
   "source": [
    "import pandas as pd\n",
    "import numpy as np\n",
    "import pickle"
   ]
  },
  {
   "cell_type": "code",
   "execution_count": null,
   "metadata": {
    "id": "uN1n_7eeuoN4"
   },
   "outputs": [],
   "source": [
    "from tqdm import tqdm\n",
    "tqdm.pandas()"
   ]
  },
  {
   "cell_type": "code",
   "execution_count": null,
   "metadata": {
    "id": "ATQx0g9sDwFk"
   },
   "outputs": [],
   "source": [
    "import matplotlib.pyplot as plt\n",
    "from sklearn.metrics import confusion_matrix, ConfusionMatrixDisplay\n",
    "from sklearn.metrics import classification_report"
   ]
  },
  {
   "cell_type": "code",
   "execution_count": null,
   "metadata": {
    "id": "KZYsqaAUc2gu"
   },
   "outputs": [],
   "source": [
    "from sklearn.metrics.pairwise import cosine_similarity"
   ]
  },
  {
   "cell_type": "code",
   "execution_count": null,
   "metadata": {
    "id": "CJYvo5quYThw"
   },
   "outputs": [],
   "source": [
    "dev_papers = pd.read_hdf('/content/drive/MyDrive/master_thesis/baselines/tf-idf_baseline_ga/data/embeddings/dev_papers.h5', 'df')\n",
    "dev_cases_data = pd.read_hdf('/content/drive/MyDrive/master_thesis/baselines/tf-idf_baseline_ga/data/embeddings/dev_cases_data.h5', 'df')"
   ]
  },
  {
   "cell_type": "code",
   "execution_count": null,
   "metadata": {
    "id": "O1Vq5ztE3J3N"
   },
   "outputs": [],
   "source": [
    "def get_case_embedding(df, case_id):\n",
    "  return df[df['CaseID'] == case_id].iloc[0]['embedding']"
   ]
  },
  {
   "cell_type": "code",
   "execution_count": null,
   "metadata": {
    "id": "ppi77S533UUh"
   },
   "outputs": [],
   "source": [
    "def get_similarity_with_case_descriptions(df, embedding, case_id):\n",
    "  case_embedding = get_case_embedding(df, case_id)\n",
    "  return cosine_similarity(case_embedding, embedding).flatten()[0]"
   ]
  },
  {
   "cell_type": "code",
   "execution_count": null,
   "metadata": {
    "colab": {
     "base_uri": "https://localhost:8080/"
    },
    "executionInfo": {
     "elapsed": 41771,
     "status": "ok",
     "timestamp": 1662634404613,
     "user": {
      "displayName": "Igor Pidik",
      "userId": "12606022177661543582"
     },
     "user_tz": -120
    },
    "id": "czj7vSzc3_Sf",
    "outputId": "31303ac7-c2c9-4480-8e05-60f14e3b3751"
   },
   "outputs": [],
   "source": [
    "dev_papers['case_embedding_similarity'] = dev_papers.progress_apply(lambda x: get_similarity_with_case_descriptions(dev_cases_data, x.embedding, x.case_id), axis=1)"
   ]
  },
  {
   "cell_type": "code",
   "execution_count": null,
   "metadata": {
    "id": "ac17zA43BeJU"
   },
   "outputs": [],
   "source": [
    "def get_optimal_threshold(precision, recall, thresholds):\n",
    "    fscore = (2 * precision * recall) / (precision + recall)\n",
    "    # locate the index of the largest f score\n",
    "    ix = np.argmax(fscore)\n",
    "    optimal_threshold = thresholds[ix]\n",
    "    print('Best Threshold=%f, F-Score=%.3f' % (optimal_threshold, fscore[ix]))\n",
    "    return optimal_threshold"
   ]
  },
  {
   "cell_type": "code",
   "execution_count": null,
   "metadata": {
    "id": "T1U2yFGbb99i"
   },
   "outputs": [],
   "source": [
    "def convert_y_to_label(y):\n",
    "  labels = []\n",
    "  for item in y:\n",
    "    if item:\n",
    "      labels.append('associated_paper')\n",
    "    else:\n",
    "      labels.append('irrelevant_paper')\n",
    "  return labels"
   ]
  },
  {
   "cell_type": "code",
   "execution_count": null,
   "metadata": {
    "id": "lEBxo_fpz2IF"
   },
   "outputs": [],
   "source": [
    "def create_checkpoint_wrapper(n_bits, n_iter, n_pop, r_cross, r_mut, path):\n",
    "  checkpoint = {\n",
    "      'n_bits': n_bits,\n",
    "      'n_iter': n_iter,\n",
    "      'n_pop': n_pop,\n",
    "      'r_cross': r_cross,\n",
    "      'r_mut': r_mut,\n",
    "  }\n",
    "\n",
    "  def create_checkpoint(best, best_score, current_iter, pop):\n",
    "    run_info = {\n",
    "        'best_mask': best,\n",
    "        'best_score': best_score,\n",
    "        'pop': pop,\n",
    "        'current_iter': current_iter\n",
    "    }\n",
    "\n",
    "    checkpoint.update(run_info)\n",
    "    print('Creating checkpoint!')\n",
    "    print(checkpoint)\n",
    "    with open(path, 'wb') as fp:\n",
    "      pickle.dump(checkpoint, fp)\n",
    "    print('Checkpoint created!')\n",
    "  return create_checkpoint\n",
    "\n",
    "def get_checkpoint(n_bits, n_iter, n_pop, r_cross, r_mut, path):\n",
    "  try:\n",
    "    with open(path, 'rb') as fp:\n",
    "      state = pickle.load(fp)\n",
    "      print('Checkpoint loaded!')\n",
    "      print(state)\n",
    "      return state\n",
    "  except FileNotFoundError:\n",
    "    pop = [randint(0, 2, n_bits).tolist() for _ in range(n_pop)]\n",
    "    return {\n",
    "      'n_bits': n_bits,\n",
    "      'n_iter': n_iter,\n",
    "      'n_pop': n_pop,\n",
    "      'r_cross': r_cross,\n",
    "      'r_mut': r_mut,\n",
    "      'best_mask': pop[0],\n",
    "      'best_score': -1000,\n",
    "      'current_iter': 0,\n",
    "      'pop': pop\n",
    "    }"
   ]
  },
  {
   "cell_type": "code",
   "execution_count": null,
   "metadata": {
    "id": "7vI3El7S-mAe"
   },
   "outputs": [],
   "source": [
    "def save_best_mask(mask, score, path):\n",
    "  with open(path, 'wb') as fp:\n",
    "    np.savez(fp, mask=np.array(mask), score=score)\n",
    "    print('Best mask saved!')"
   ]
  },
  {
   "cell_type": "code",
   "execution_count": null,
   "metadata": {
    "id": "BH6xBooh27Dx"
   },
   "outputs": [],
   "source": [
    "n_iter = 100\n",
    "# bits per variable\n",
    "n_bits = 100\n",
    "# define the population size\n",
    "n_pop = 10\n",
    "# crossover rate\n",
    "r_cross = 0.9\n",
    "# mutation rate\n",
    "r_mut = 5.0 / float(n_bits)"
   ]
  },
  {
   "cell_type": "code",
   "execution_count": null,
   "metadata": {
    "id": "SVTkC0KMLgwB"
   },
   "outputs": [],
   "source": [
    "# genetic algorithm search for continuous function optimization\n",
    "from numpy.random import randint\n",
    "from numpy.random import rand\n",
    " \n",
    "# objective function\n",
    "def objective(mask):\n",
    "  dev_papers['embedding_masked'] = dev_papers['embedding'].apply(lambda x: x.multiply(mask))\n",
    "  dev_papers['case_embedding_similarity_masked'] = dev_papers.apply(lambda x: get_similarity_with_case_descriptions(dev_cases_data, x.embedding_masked, x.case_id), axis=1)\n",
    "  precision, recall, thresholds = metrics.precision_recall_curve(dev_papers['type'] == 'associated_paper', dev_papers['case_embedding_similarity_masked'])\n",
    "  optimal_threshold = get_optimal_threshold(precision, recall, thresholds)\n",
    "  print(f\"optimal threshold {optimal_threshold}\")\n",
    "  dev_papers['pred_is_associated_masked'] = dev_papers['case_embedding_similarity_masked'].apply(lambda x: x >= optimal_threshold)\n",
    "  y_target = convert_y_to_label(dev_papers['type'] == 'associated_paper')\n",
    "  y_pred = convert_y_to_label(dev_papers['pred_is_associated_masked'])\n",
    "  f1_score = metrics.f1_score(y_target, y_pred, average='macro')\n",
    "  return f1_score\n",
    " \n",
    "# tournament selection\n",
    "def selection(pop, scores, k=3):\n",
    "\t# first random selection\n",
    "\tselection_ix = randint(len(pop))\n",
    "\tfor ix in randint(0, len(pop), k-1):\n",
    "\t\t# check if better (e.g. perform a tournament)\n",
    "\t\tif scores[ix] > scores[selection_ix]:\n",
    "\t\t\tselection_ix = ix\n",
    "\treturn pop[selection_ix]\n",
    " \n",
    "# crossover two parents to create two children\n",
    "def crossover(p1, p2, r_cross):\n",
    "\t# children are copies of parents by default\n",
    "\tc1, c2 = p1.copy(), p2.copy()\n",
    "\t# check for recombination\n",
    "\tif rand() < r_cross:\n",
    "\t\t# select crossover point that is not on the end of the string\n",
    "\t\tpt = randint(1, len(p1)-2)\n",
    "\t\t# perform crossover\n",
    "\t\tc1 = p1[:pt] + p2[pt:]\n",
    "\t\tc2 = p2[:pt] + p1[pt:]\n",
    "\treturn [c1, c2]\n",
    " \n",
    "# mutation operator\n",
    "def mutation(bitstring, r_mut):\n",
    "\tfor i in range(len(bitstring)):\n",
    "\t\t# check for a mutation\n",
    "\t\tif rand() < r_mut:\n",
    "\t\t\t# flip the bit\n",
    "\t\t\tbitstring[i] = 1 - bitstring[i]\n",
    " \n",
    "# genetic algorithm\n",
    "def genetic_algorithm(objective, checkpoint, make_checkpoint, best_mask_path):\n",
    "\tn_iter = checkpoint['n_iter']\n",
    "\tr_cross = checkpoint['r_cross']\n",
    "\tr_mut = checkpoint['r_mut']\n",
    "\tpop = checkpoint['pop']\n",
    "\tbest = checkpoint['best_mask']\n",
    "\tbest_eval = checkpoint['best_score']\n",
    "\n",
    "\tn_pop = len(pop)\n",
    "\t# enumerate generations\n",
    "\tfor gen in range(checkpoint['current_iter'], n_iter):\n",
    "\t\tprint(f\"GEN: {gen}\")\n",
    "\t\t# evaluate all candidates in the population\n",
    "\t\tscores = [objective(p) for p in pop]\n",
    "\t\t# check for new best solution\n",
    "\t\tfor i in range(n_pop):\n",
    "\t\t\tif scores[i] > best_eval:\n",
    "\t\t\t\tbest, best_eval = pop[i], scores[i]\n",
    "\t\t\t\tprint(\">%d, new best f(%s)\" % (gen, scores[i]))\n",
    "\t\t# select parents\n",
    "\t\tselected = [selection(pop, scores) for _ in range(n_pop)]\n",
    "\t\t# create the next generation\n",
    "\t\tchildren = list()\n",
    "\t\tfor i in range(0, n_pop, 2):\n",
    "\t\t\t# get selected parents in pairs\n",
    "\t\t\tp1, p2 = selected[i], selected[i+1]\n",
    "\t\t\t# crossover and mutation\n",
    "\t\t\tfor c in crossover(p1, p2, r_cross):\n",
    "\t\t\t\t# mutation\n",
    "\t\t\t\tmutation(c, r_mut)\n",
    "\t\t\t\t# store for next generation\n",
    "\t\t\t\tchildren.append(c)\n",
    "\t\t# replace population\n",
    "\t\tpop = children\n",
    "\t\t# save best mask\n",
    "\t\tsave_best_mask(best, best_eval, best_mask_path)\n",
    "\t\t# save checkpoint\n",
    "\t\tmake_checkpoint(best, best_eval, gen + 1, pop)\n",
    "\treturn best, best_eval\n",
    " "
   ]
  },
  {
   "cell_type": "code",
   "execution_count": null,
   "metadata": {
    "id": "3_1ghV-e4F5k"
   },
   "outputs": [],
   "source": [
    "def run_ga():\n",
    "  # define the total iterations\n",
    "  n_iter = 100\n",
    "  # bits per variable\n",
    "  n_bits = 100\n",
    "  # define the population size\n",
    "  n_pop = 10\n",
    "  # crossover rate\n",
    "  r_cross = 0.9\n",
    "  # mutation rate\n",
    "  r_mut = 5.0 / float(n_bits)\n",
    "  checkpoint_path = 'checkpoint.pkl'\n",
    "  checkpoint_state = get_checkpoint(n_bits, n_iter, n_pop, r_cross, r_mut, checkpoint_path)\n",
    "  make_checkpoint = create_checkpoint_wrapper(n_bits, n_iter, n_pop, r_cross, r_mut, checkpoint_path)\n",
    "  best_mask_path = 'best_mask.npz'\n",
    "  # perform the genetic algorithm search\n",
    "  best, score = genetic_algorithm(objective, checkpoint_state, make_checkpoint, best_mask_path)\n",
    "  print('Done!')\n",
    "  print(best, score)"
   ]
  },
  {
   "cell_type": "code",
   "execution_count": null,
   "metadata": {
    "colab": {
     "base_uri": "https://localhost:8080/",
     "height": 498
    },
    "executionInfo": {
     "elapsed": 577616,
     "status": "error",
     "timestamp": 1662640184448,
     "user": {
      "displayName": "Igor Pidik",
      "userId": "12606022177661543582"
     },
     "user_tz": -120
    },
    "id": "YTwYo-mI_fBT",
    "outputId": "c8ae39d0-b212-472e-9cc1-0d77ff9e910e"
   },
   "outputs": [],
   "source": [
    "run_ga()"
   ]
  }
 ],
 "metadata": {
  "colab": {
   "authorship_tag": "ABX9TyP7indHsAx89BUsSjp5BZbi",
   "provenance": []
  },
  "kernelspec": {
   "display_name": "Python 3 (ipykernel)",
   "language": "python",
   "name": "python3"
  },
  "language_info": {
   "codemirror_mode": {
    "name": "ipython",
    "version": 3
   },
   "file_extension": ".py",
   "mimetype": "text/x-python",
   "name": "python",
   "nbconvert_exporter": "python",
   "pygments_lexer": "ipython3",
   "version": "3.9.13"
  }
 },
 "nbformat": 4,
 "nbformat_minor": 4
}

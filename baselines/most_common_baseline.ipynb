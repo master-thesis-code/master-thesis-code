{
 "cells": [
  {
   "cell_type": "code",
   "execution_count": null,
   "metadata": {
    "colab": {
     "base_uri": "https://localhost:8080/"
    },
    "executionInfo": {
     "elapsed": 16616,
     "status": "ok",
     "timestamp": 1661849129866,
     "user": {
      "displayName": "Igor Pidik",
      "userId": "12606022177661543582"
     },
     "user_tz": -120
    },
    "id": "W6qYM0DXBaMf",
    "outputId": "6387fc8c-0fff-4ae9-f0d9-578ffcd86bde"
   },
   "outputs": [],
   "source": [
    "from google.colab import drive\n",
    "drive.mount('/content/drive')"
   ]
  },
  {
   "cell_type": "code",
   "execution_count": null,
   "metadata": {
    "executionInfo": {
     "elapsed": 405,
     "status": "ok",
     "timestamp": 1661849130262,
     "user": {
      "displayName": "Igor Pidik",
      "userId": "12606022177661543582"
     },
     "user_tz": -120
    },
    "id": "XG6KsuFkCcxb"
   },
   "outputs": [],
   "source": [
    "import pandas as pd\n",
    "import numpy as np"
   ]
  },
  {
   "cell_type": "code",
   "execution_count": null,
   "metadata": {
    "executionInfo": {
     "elapsed": 301,
     "status": "ok",
     "timestamp": 1661849130561,
     "user": {
      "displayName": "Igor Pidik",
      "userId": "12606022177661543582"
     },
     "user_tz": -120
    },
    "id": "6OjLKK8-a4S2"
   },
   "outputs": [],
   "source": [
    "import matplotlib.pyplot as plt\n",
    "from sklearn.metrics import confusion_matrix, ConfusionMatrixDisplay\n",
    "from sklearn.metrics import classification_report"
   ]
  },
  {
   "cell_type": "code",
   "execution_count": null,
   "metadata": {
    "executionInfo": {
     "elapsed": 4,
     "status": "ok",
     "timestamp": 1661849130562,
     "user": {
      "displayName": "Igor Pidik",
      "userId": "12606022177661543582"
     },
     "user_tz": -120
    },
    "id": "pUH6fWU-Y-XI"
   },
   "outputs": [],
   "source": [
    "from sklearn.dummy import DummyClassifier"
   ]
  },
  {
   "cell_type": "code",
   "execution_count": null,
   "metadata": {
    "executionInfo": {
     "elapsed": 1992,
     "status": "ok",
     "timestamp": 1661849132551,
     "user": {
      "displayName": "Igor Pidik",
      "userId": "12606022177661543582"
     },
     "user_tz": -120
    },
    "id": "A0K6ZA__YjbL"
   },
   "outputs": [],
   "source": [
    "train_papers = pd.read_csv('/content/drive/MyDrive/master_thesis/dataset_data/train/train_papers.csv')\n",
    "test_papers = pd.read_csv('/content/drive/MyDrive/master_thesis/dataset_data/test/test_papers.csv')"
   ]
  },
  {
   "cell_type": "code",
   "execution_count": null,
   "metadata": {
    "executionInfo": {
     "elapsed": 8,
     "status": "ok",
     "timestamp": 1661849132551,
     "user": {
      "displayName": "Igor Pidik",
      "userId": "12606022177661543582"
     },
     "user_tz": -120
    },
    "id": "2wpMrmDpZJCD"
   },
   "outputs": [],
   "source": [
    "train_y = train_papers['type'] == 'associated_paper'\n",
    "test_y = test_papers['type'] == 'associated_paper'"
   ]
  },
  {
   "cell_type": "code",
   "execution_count": null,
   "metadata": {
    "executionInfo": {
     "elapsed": 8,
     "status": "ok",
     "timestamp": 1661849132552,
     "user": {
      "displayName": "Igor Pidik",
      "userId": "12606022177661543582"
     },
     "user_tz": -120
    },
    "id": "j7h1KGt6Y8ll"
   },
   "outputs": [],
   "source": [
    "dummy_clf = DummyClassifier(strategy=\"most_frequent\")"
   ]
  },
  {
   "cell_type": "code",
   "execution_count": null,
   "metadata": {
    "colab": {
     "base_uri": "https://localhost:8080/"
    },
    "executionInfo": {
     "elapsed": 7,
     "status": "ok",
     "timestamp": 1661849132552,
     "user": {
      "displayName": "Igor Pidik",
      "userId": "12606022177661543582"
     },
     "user_tz": -120
    },
    "id": "2wjqoLj7ZFdL",
    "outputId": "8beb65e4-9312-4e30-ac70-9c43391ba72f"
   },
   "outputs": [],
   "source": [
    "dummy_clf.fit(None, train_y)"
   ]
  },
  {
   "cell_type": "code",
   "execution_count": null,
   "metadata": {
    "executionInfo": {
     "elapsed": 7,
     "status": "ok",
     "timestamp": 1661849132553,
     "user": {
      "displayName": "Igor Pidik",
      "userId": "12606022177661543582"
     },
     "user_tz": -120
    },
    "id": "NNv-hfscbKzz"
   },
   "outputs": [],
   "source": [
    "pred_y = dummy_clf.predict([None] * len(test_y))"
   ]
  },
  {
   "cell_type": "code",
   "execution_count": null,
   "metadata": {
    "executionInfo": {
     "elapsed": 6,
     "status": "ok",
     "timestamp": 1661849132553,
     "user": {
      "displayName": "Igor Pidik",
      "userId": "12606022177661543582"
     },
     "user_tz": -120
    },
    "id": "SuHyBTJjaxCB"
   },
   "outputs": [],
   "source": [
    "def plot_cm(target_y, pred_y, labels):\n",
    "  cm = confusion_matrix(target_y, pred_y, labels=labels)\n",
    "  disp = ConfusionMatrixDisplay(confusion_matrix=cm, display_labels=labels)\n",
    "  disp.plot()\n",
    "  plt.show()"
   ]
  },
  {
   "cell_type": "code",
   "execution_count": null,
   "metadata": {
    "executionInfo": {
     "elapsed": 294,
     "status": "ok",
     "timestamp": 1661849132841,
     "user": {
      "displayName": "Igor Pidik",
      "userId": "12606022177661543582"
     },
     "user_tz": -120
    },
    "id": "T1U2yFGbb99i"
   },
   "outputs": [],
   "source": [
    "def convert_y_to_label(y):\n",
    "  labels = []\n",
    "  for item in y:\n",
    "    if item:\n",
    "      labels.append('associated_paper')\n",
    "    else:\n",
    "      labels.append('irrelevant_paper')\n",
    "  return labels"
   ]
  },
  {
   "cell_type": "code",
   "execution_count": null,
   "metadata": {
    "colab": {
     "base_uri": "https://localhost:8080/",
     "height": 280
    },
    "executionInfo": {
     "elapsed": 383,
     "status": "ok",
     "timestamp": 1661849133221,
     "user": {
      "displayName": "Igor Pidik",
      "userId": "12606022177661543582"
     },
     "user_tz": -120
    },
    "id": "5AX02GtMbR80",
    "outputId": "b6c574dd-20c7-4d95-d9b8-7fefcf461f1c"
   },
   "outputs": [],
   "source": [
    "plot_cm(convert_y_to_label(test_y), convert_y_to_label(pred_y), ['associated_paper', 'irrelevant_paper'])"
   ]
  },
  {
   "cell_type": "code",
   "execution_count": null,
   "metadata": {
    "colab": {
     "base_uri": "https://localhost:8080/"
    },
    "executionInfo": {
     "elapsed": 10,
     "status": "ok",
     "timestamp": 1661849133221,
     "user": {
      "displayName": "Igor Pidik",
      "userId": "12606022177661543582"
     },
     "user_tz": -120
    },
    "id": "z6mrZzt0ce7_",
    "outputId": "37e91d98-27a7-4ea9-fe8b-1839e6b33572"
   },
   "outputs": [],
   "source": [
    "print(classification_report(test_y, pred_y, target_names=['irrelevant_paper', 'associated_paper']))"
   ]
  }
 ],
 "metadata": {
  "colab": {
   "authorship_tag": "ABX9TyO++A1WruMmT5QbUG3jRcpF",
   "collapsed_sections": [],
   "name": "most_common_baseline",
   "provenance": []
  },
  "kernelspec": {
   "display_name": "Python 3 (ipykernel)",
   "language": "python",
   "name": "python3"
  },
  "language_info": {
   "codemirror_mode": {
    "name": "ipython",
    "version": 3
   },
   "file_extension": ".py",
   "mimetype": "text/x-python",
   "name": "python",
   "nbconvert_exporter": "python",
   "pygments_lexer": "ipython3",
   "version": "3.9.13"
  }
 },
 "nbformat": 4,
 "nbformat_minor": 4
}

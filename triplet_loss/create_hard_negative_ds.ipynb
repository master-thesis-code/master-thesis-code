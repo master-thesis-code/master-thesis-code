{
 "cells": [
  {
   "cell_type": "code",
   "execution_count": null,
   "metadata": {
    "id": "FBKzMQZ9Z5HS"
   },
   "outputs": [],
   "source": [
    "import numpy as np\n",
    "import pandas as pd"
   ]
  },
  {
   "cell_type": "code",
   "execution_count": null,
   "metadata": {
    "id": "oRKPbKc92o8j"
   },
   "outputs": [],
   "source": [
    "from tqdm import tqdm"
   ]
  },
  {
   "cell_type": "code",
   "execution_count": null,
   "metadata": {
    "colab": {
     "base_uri": "https://localhost:8080/"
    },
    "id": "QkQmjiUeeP1i",
    "outputId": "4a6cfc32-ab2c-4c91-a3f5-532df3fc72b6"
   },
   "outputs": [],
   "source": [
    "from google.colab import drive\n",
    "drive.mount('/content/drive')"
   ]
  },
  {
   "cell_type": "code",
   "execution_count": null,
   "metadata": {
    "id": "NYZ05sCb2sDh"
   },
   "outputs": [],
   "source": [
    "tqdm.pandas()"
   ]
  },
  {
   "cell_type": "markdown",
   "metadata": {
    "id": "_oxYalWtZ5HU"
   },
   "source": [
    "## Load similarities"
   ]
  },
  {
   "cell_type": "code",
   "execution_count": null,
   "metadata": {},
   "outputs": [],
   "source": [
    "train_df_similarities = pd.read_csv('/content/drive/MyDrive/master_thesis/dataset_data/train_df_similarities.csv')"
   ]
  },
  {
   "cell_type": "markdown",
   "metadata": {},
   "source": [
    "# Get hard triplets per case"
   ]
  },
  {
   "cell_type": "code",
   "execution_count": null,
   "metadata": {},
   "outputs": [],
   "source": [
    "case_ids = train_df_similarities['case_id'].unique()"
   ]
  },
  {
   "cell_type": "code",
   "execution_count": null,
   "metadata": {},
   "outputs": [],
   "source": [
    "def get_hard_triplets_for_case(case_id):\n",
    "    hard_negatives = []\n",
    "    case_data = train_df_similarities[train_df_similarities['case_id'] == case_id]\n",
    "    pos = case_data[case_data['type'] == 'associated_paper']\n",
    "    neg = case_data[case_data['type'] != 'associated_paper']\n",
    "    for _, p in pos.iterrows():\n",
    "        for _, n in neg.iterrows():\n",
    "            if n['similarity'] > p['similarity']:\n",
    "                pos_copy = p.copy()\n",
    "                pos_copy['abstract_negative'] = n['abstract']\n",
    "                hard_negatives.append(pos_copy)\n",
    "    return hard_negatives"
   ]
  },
  {
   "cell_type": "code",
   "execution_count": null,
   "metadata": {},
   "outputs": [],
   "source": [
    "hard_negatives = []\n",
    "for case_id in case_ids:\n",
    "    case_hard_negatives = get_hard_triplets_for_case(case_id)\n",
    "    if case_hard_negatives:\n",
    "        hard_negatives += case_hard_negatives\n",
    "hard_negatives_df = pd.DataFrame(hard_negatives)"
   ]
  },
  {
   "cell_type": "code",
   "execution_count": null,
   "metadata": {},
   "outputs": [],
   "source": [
    "hard_negatives_df"
   ]
  },
  {
   "cell_type": "code",
   "execution_count": null,
   "metadata": {
    "id": "Wo4pnGCxxvrH"
   },
   "outputs": [],
   "source": [
    "hard_negatives_df.to_csv('/content/drive/MyDrive/master_thesis/dataset_data/triplet_loss_data/hard_triplet_train.csv')"
   ]
  }
 ],
 "metadata": {
  "colab": {
   "provenance": []
  },
  "gpuClass": "standard",
  "kernelspec": {
   "display_name": "Python 3 (ipykernel)",
   "language": "python",
   "name": "python3"
  },
  "language_info": {
   "codemirror_mode": {
    "name": "ipython",
    "version": 3
   },
   "file_extension": ".py",
   "mimetype": "text/x-python",
   "name": "python",
   "nbconvert_exporter": "python",
   "pygments_lexer": "ipython3",
   "version": "3.9.13"
  }
 },
 "nbformat": 4,
 "nbformat_minor": 4
}

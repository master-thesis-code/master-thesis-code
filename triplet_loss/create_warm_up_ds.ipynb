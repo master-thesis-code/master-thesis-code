{
 "cells": [
  {
   "cell_type": "code",
   "execution_count": null,
   "metadata": {
    "id": "FBKzMQZ9Z5HS"
   },
   "outputs": [],
   "source": [
    "import numpy as np\n",
    "import pandas as pd"
   ]
  },
  {
   "cell_type": "code",
   "execution_count": null,
   "metadata": {
    "id": "oRKPbKc92o8j"
   },
   "outputs": [],
   "source": [
    "from tqdm import tqdm"
   ]
  },
  {
   "cell_type": "code",
   "execution_count": null,
   "metadata": {
    "colab": {
     "base_uri": "https://localhost:8080/"
    },
    "id": "QkQmjiUeeP1i",
    "outputId": "4a6cfc32-ab2c-4c91-a3f5-532df3fc72b6"
   },
   "outputs": [],
   "source": [
    "from google.colab import drive\n",
    "drive.mount('/content/drive')"
   ]
  },
  {
   "cell_type": "code",
   "execution_count": null,
   "metadata": {
    "id": "NYZ05sCb2sDh"
   },
   "outputs": [],
   "source": [
    "tqdm.pandas()"
   ]
  },
  {
   "cell_type": "code",
   "execution_count": null,
   "metadata": {
    "id": "QMB2YHLIv-rY"
   },
   "outputs": [],
   "source": [
    "def get_random_negative(case_id):\n",
    "  return train_df[(train_df['case_id'] == case_id) & (train_df['type'] != 'associated_paper')].sample().iloc[0]['abstract']"
   ]
  },
  {
   "cell_type": "markdown",
   "metadata": {
    "id": "_oxYalWtZ5HU"
   },
   "source": [
    "## Load the Data"
   ]
  },
  {
   "cell_type": "code",
   "execution_count": null,
   "metadata": {},
   "outputs": [],
   "source": [
    "train_df = pd.read_csv('/content/drive/MyDrive/master_thesis/dataset_data/train_df.csv')"
   ]
  },
  {
   "cell_type": "markdown",
   "metadata": {},
   "source": [
    "# Create warmup triplets"
   ]
  },
  {
   "cell_type": "code",
   "execution_count": null,
   "metadata": {
    "id": "QnGO-1KXvuc9"
   },
   "outputs": [],
   "source": [
    "tripplet_df = train_df[train_df['type'] == 'associated_paper']"
   ]
  },
  {
   "cell_type": "code",
   "execution_count": null,
   "metadata": {
    "colab": {
     "base_uri": "https://localhost:8080/"
    },
    "id": "wEU2UDvov0q8",
    "outputId": "6064ae51-ef0f-4e42-93d3-ba0e320198c9"
   },
   "outputs": [],
   "source": [
    "tripplet_df['abstract_negative'] = tripplet_df['case_id'].progress_apply(get_random_negative)"
   ]
  },
  {
   "cell_type": "code",
   "execution_count": null,
   "metadata": {
    "id": "4IA7DauX0z4D"
   },
   "outputs": [],
   "source": [
    "tripplet_df"
   ]
  },
  {
   "cell_type": "code",
   "execution_count": null,
   "metadata": {
    "id": "Wo4pnGCxxvrH"
   },
   "outputs": [],
   "source": [
    "tripplet_df.to_csv('/content/drive/MyDrive/master_thesis/dataset_data/triplet_loss_data/warmup_train.csv')"
   ]
  }
 ],
 "metadata": {
  "colab": {
   "provenance": []
  },
  "gpuClass": "standard",
  "kernelspec": {
   "display_name": "Python 3 (ipykernel)",
   "language": "python",
   "name": "python3"
  },
  "language_info": {
   "codemirror_mode": {
    "name": "ipython",
    "version": 3
   },
   "file_extension": ".py",
   "mimetype": "text/x-python",
   "name": "python",
   "nbconvert_exporter": "python",
   "pygments_lexer": "ipython3",
   "version": "3.9.13"
  }
 },
 "nbformat": 4,
 "nbformat_minor": 4
}
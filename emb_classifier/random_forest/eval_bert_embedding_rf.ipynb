{
 "cells": [
  {
   "cell_type": "code",
   "execution_count": null,
   "metadata": {
    "colab": {
     "base_uri": "https://localhost:8080/"
    },
    "id": "W6qYM0DXBaMf",
    "outputId": "821a1d0d-2463-44bb-aa76-f132b6ac2198"
   },
   "outputs": [],
   "source": [
    "from google.colab import drive\n",
    "drive.mount('/content/drive')"
   ]
  },
  {
   "cell_type": "code",
   "execution_count": null,
   "metadata": {
    "id": "XG6KsuFkCcxb"
   },
   "outputs": [],
   "source": [
    "import pandas as pd\n",
    "import numpy as np"
   ]
  },
  {
   "cell_type": "code",
   "execution_count": null,
   "metadata": {
    "id": "V1liTL0496a_"
   },
   "outputs": [],
   "source": [
    "from sklearn.metrics import classification_report\n",
    "from sklearn.svm import LinearSVC"
   ]
  },
  {
   "cell_type": "code",
   "execution_count": null,
   "metadata": {
    "id": "DRFPAd_F0n4X"
   },
   "outputs": [],
   "source": [
    "import pickle"
   ]
  },
  {
   "cell_type": "markdown",
   "metadata": {},
   "source": [
    "# Load test data"
   ]
  },
  {
   "cell_type": "code",
   "execution_count": null,
   "metadata": {
    "id": "EwHOs0nD_PzI"
   },
   "outputs": [],
   "source": [
    "test_cases_data = pd.read_hdf('/content/drive/MyDrive/master_thesis/dataset_data/embedded_data/test_eval_cases_emb.h5', 'df')\n",
    "test_df = pd.read_hdf('/content/drive/MyDrive/master_thesis/dataset_data/embedded_data/test_eval_emb.h5', 'df')"
   ]
  },
  {
   "cell_type": "markdown",
   "metadata": {},
   "source": [
    "# Load model"
   ]
  },
  {
   "cell_type": "code",
   "execution_count": null,
   "metadata": {
    "id": "ITviMgV_9B6X"
   },
   "outputs": [],
   "source": [
    "with open('/content/drive/MyDrive/master_thesis/bert_embedding_svm/models/rfc_model_2.pkl', 'rb') as handle:\n",
    "    rf = pickle.load(handle)"
   ]
  },
  {
   "cell_type": "markdown",
   "metadata": {},
   "source": [
    "# Eval"
   ]
  },
  {
   "cell_type": "code",
   "execution_count": null,
   "metadata": {
    "id": "3xokz6zg_vLa"
   },
   "outputs": [],
   "source": [
    "test_df['embedding_input'] = test_df.apply(lambda x: np.concatenate([x['abstract_embedding'], x['ChallengeDescription_embedding']]), axis=1)"
   ]
  },
  {
   "cell_type": "code",
   "execution_count": null,
   "metadata": {
    "id": "YA2kRcGP9UFQ"
   },
   "outputs": [],
   "source": [
    "pred = rf.predict(test_df['embedding_input'].tolist())"
   ]
  },
  {
   "cell_type": "code",
   "execution_count": null,
   "metadata": {
    "colab": {
     "base_uri": "https://localhost:8080/"
    },
    "id": "jTeRIg-lji1G",
    "outputId": "ecc96eb2-a6fe-425c-8d2d-b4effe21b179"
   },
   "outputs": [],
   "source": [
    "print(classification_report(test_df['label'].tolist(), pred, digits=4))"
   ]
  }
 ],
 "metadata": {
  "colab": {
   "provenance": []
  },
  "kernelspec": {
   "display_name": "Python 3 (ipykernel)",
   "language": "python",
   "name": "python3"
  },
  "language_info": {
   "codemirror_mode": {
    "name": "ipython",
    "version": 3
   },
   "file_extension": ".py",
   "mimetype": "text/x-python",
   "name": "python",
   "nbconvert_exporter": "python",
   "pygments_lexer": "ipython3",
   "version": "3.9.13"
  }
 },
 "nbformat": 4,
 "nbformat_minor": 4
}

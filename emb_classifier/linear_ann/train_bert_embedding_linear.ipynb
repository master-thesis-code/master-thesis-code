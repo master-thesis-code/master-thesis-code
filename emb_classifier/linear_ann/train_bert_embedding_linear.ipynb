{
 "cells": [
  {
   "cell_type": "code",
   "execution_count": null,
   "metadata": {
    "colab": {
     "base_uri": "https://localhost:8080/"
    },
    "id": "W6qYM0DXBaMf",
    "outputId": "59c9ba92-a8b8-4590-e61f-a56404e8c803"
   },
   "outputs": [],
   "source": [
    "from google.colab import drive\n",
    "drive.mount('/content/drive')"
   ]
  },
  {
   "cell_type": "code",
   "execution_count": null,
   "metadata": {
    "id": "XG6KsuFkCcxb"
   },
   "outputs": [],
   "source": [
    "import pandas as pd\n",
    "import numpy as np"
   ]
  },
  {
   "cell_type": "code",
   "execution_count": null,
   "metadata": {
    "id": "V1liTL0496a_"
   },
   "outputs": [],
   "source": [
    "from sklearn.metrics import classification_report"
   ]
  },
  {
   "cell_type": "code",
   "execution_count": null,
   "metadata": {
    "id": "NN0VfESCbioE"
   },
   "outputs": [],
   "source": [
    "from torch.utils.data import Dataset\n",
    "from torch.utils.data import DataLoader\n",
    "from torch.optim import Adam\n",
    "import torch"
   ]
  },
  {
   "cell_type": "code",
   "execution_count": null,
   "metadata": {
    "id": "xTeS4W-yf8-K"
   },
   "outputs": [],
   "source": [
    "from tqdm import tqdm\n",
    "import random"
   ]
  },
  {
   "cell_type": "code",
   "execution_count": null,
   "metadata": {
    "id": "nHus-GTeSqME"
   },
   "outputs": [],
   "source": [
    "import gc"
   ]
  },
  {
   "cell_type": "markdown",
   "metadata": {
    "id": "F_9lzFC2S9PA"
   },
   "source": [
    "# Set SEED"
   ]
  },
  {
   "cell_type": "code",
   "execution_count": null,
   "metadata": {
    "colab": {
     "base_uri": "https://localhost:8080/"
    },
    "id": "IeG2BhoES-71",
    "outputId": "c1a96804-fdf9-432a-8a29-4bc5c934e162"
   },
   "outputs": [],
   "source": [
    "seed = 43\n",
    "random.seed(seed)\n",
    "np.random.seed(seed)\n",
    "torch.manual_seed(seed)"
   ]
  },
  {
   "cell_type": "code",
   "execution_count": null,
   "metadata": {
    "id": "ajUlcCZC6O0A"
   },
   "outputs": [],
   "source": [
    "train_df = pd.read_pickle('/content/drive/MyDrive/master_thesis/dataset_data/embedded_data/train_emb.pkl')"
   ]
  },
  {
   "cell_type": "markdown",
   "metadata": {},
   "source": [
    "# Dataset"
   ]
  },
  {
   "cell_type": "code",
   "execution_count": null,
   "metadata": {
    "id": "1etNrXvCbGIX"
   },
   "outputs": [],
   "source": [
    "class ExperimentDataset(Dataset):\n",
    "    def __init__(self, df):\n",
    "        super().__init__()\n",
    "        self.df = df\n",
    "        \n",
    "    def __len__(self):\n",
    "        return len(self.df)\n",
    "    \n",
    "    def __getitem__(self, index):\n",
    "        item = self.df.iloc[index]\n",
    "        inputs = np.concatenate([item['abstract_embedding'], item['ChallengeDescription_embedding']])\n",
    "        return torch.tensor(inputs), torch.tensor(item['label'])"
   ]
  },
  {
   "cell_type": "markdown",
   "metadata": {},
   "source": [
    "# Model"
   ]
  },
  {
   "cell_type": "code",
   "execution_count": null,
   "metadata": {
    "id": "P9QRRStKfYhj"
   },
   "outputs": [],
   "source": [
    "from torch import nn\n",
    "from torch import cat\n",
    "\n",
    "class Classifier(nn.Module):\n",
    "    def __init__(self, embedding_size=1536):\n",
    "        super().__init__()\n",
    "        self.dropout = nn.Dropout(0.2)\n",
    "        self.h_1 = nn.Linear(embedding_size, 512)\n",
    "        self.h_2 = nn.Linear(512, 128)\n",
    "        self.o = nn.Linear(128, 1)\n",
    "\n",
    "    def forward(self, input):\n",
    "        h1 = self.dropout(self.h_1(input))\n",
    "        h2 = self.dropout(self.h_2(h1))\n",
    "        return self.o(h2)"
   ]
  },
  {
   "cell_type": "code",
   "execution_count": null,
   "metadata": {
    "id": "8PyEsOu7fXyK"
   },
   "outputs": [],
   "source": [
    "def train(model, train_dataloader, epochs=3):\n",
    "    use_cuda = torch.cuda.is_available()\n",
    "    device = torch.device(\"cuda\" if use_cuda else \"cpu\")\n",
    "    criterion = nn.BCEWithLogitsLoss()\n",
    "    optimizer = Adam(model.parameters())\n",
    "\n",
    "    if use_cuda:\n",
    "            model = model.cuda()\n",
    "            criterion = criterion.cuda()\n",
    "            \n",
    "    total_loss_train = 0\n",
    "    model.train()\n",
    "\n",
    "    for epoch in range(epochs):\n",
    "      print(\"Epoch: \", epoch)\n",
    "      for i, train_data in enumerate(tqdm(train_dataloader)):\n",
    "          inputs, labels = train_data\n",
    "          train_label = labels.unsqueeze(1).to(device)\n",
    "          output = model(inputs.float().to(device))\n",
    "\n",
    "          batch_loss = criterion(output.float(), train_label.float())\n",
    "          loss_value = batch_loss.item()\n",
    "          total_loss_train += loss_value\n",
    "\n",
    "          model.zero_grad()\n",
    "          batch_loss.backward()\n",
    "          optimizer.step()\n",
    "\n",
    "          if (i%20 == 0):\n",
    "            print(f\"loss: {loss_value}\")\n"
   ]
  },
  {
   "cell_type": "code",
   "execution_count": null,
   "metadata": {
    "id": "gXTBKeNGjV0O"
   },
   "outputs": [],
   "source": [
    "def make_pred_for_eval(model, dataloader):\n",
    "  use_cuda = torch.cuda.is_available()\n",
    "  device = torch.device(\"cuda\" if use_cuda else \"cpu\")\n",
    "  if use_cuda:\n",
    "    model = model.cuda()\n",
    "\n",
    "  model.eval()\n",
    "  pred = []\n",
    "  with torch.no_grad():\n",
    "    for inputs, labels in tqdm(dataloader):\n",
    "        eval_label = labels.unsqueeze(1).to(device)\n",
    "        output = torch.sigmoid(model(inputs.float().to(device)))\n",
    "\n",
    "        pred.append(output.cpu().detach().numpy())\n",
    "  return pred"
   ]
  },
  {
   "cell_type": "code",
   "execution_count": null,
   "metadata": {
    "id": "KU3-rXAEbhPB"
   },
   "outputs": [],
   "source": [
    "train_ds = ExperimentDataset(train_df)\n",
    "train_dataloader = DataLoader(train_ds, batch_size=16, shuffle=True)"
   ]
  },
  {
   "cell_type": "code",
   "execution_count": null,
   "metadata": {
    "id": "KKIjEXq6gZ5d"
   },
   "outputs": [],
   "source": [
    "model = Classifier()"
   ]
  },
  {
   "cell_type": "code",
   "execution_count": null,
   "metadata": {
    "colab": {
     "base_uri": "https://localhost:8080/"
    },
    "id": "eeYjBJOph6R4",
    "outputId": "4ca5bac6-3eb7-46a7-a58e-a83eb87f420b"
   },
   "outputs": [],
   "source": [
    "print(model)"
   ]
  },
  {
   "cell_type": "code",
   "execution_count": null,
   "metadata": {
    "colab": {
     "base_uri": "https://localhost:8080/"
    },
    "id": "cp_O7_jxiYsN",
    "outputId": "5e68d250-3499-4156-c84e-1c1efed2e541"
   },
   "outputs": [],
   "source": [
    "print(sum(p.numel() for p in model.parameters()))"
   ]
  },
  {
   "cell_type": "code",
   "execution_count": null,
   "metadata": {
    "colab": {
     "base_uri": "https://localhost:8080/",
     "height": 945
    },
    "id": "Ihaxm8r4gcTI",
    "outputId": "36427458-5bcf-4ae1-f30b-8c29d515cf29"
   },
   "outputs": [],
   "source": [
    "train(model, train_dataloader)"
   ]
  },
  {
   "cell_type": "code",
   "execution_count": null,
   "metadata": {
    "id": "6JEDu4ruVmov"
   },
   "outputs": [],
   "source": [
    "torch.save(model.state_dict(), f\"/content/drive/MyDrive/master_thesis/bert_embedding_nn/linear/{seed}\")"
   ]
  }
 ],
 "metadata": {
  "accelerator": "GPU",
  "colab": {
   "provenance": []
  },
  "kernelspec": {
   "display_name": "Python 3 (ipykernel)",
   "language": "python",
   "name": "python3"
  },
  "language_info": {
   "codemirror_mode": {
    "name": "ipython",
    "version": 3
   },
   "file_extension": ".py",
   "mimetype": "text/x-python",
   "name": "python",
   "nbconvert_exporter": "python",
   "pygments_lexer": "ipython3",
   "version": "3.9.13"
  }
 },
 "nbformat": 4,
 "nbformat_minor": 4
}

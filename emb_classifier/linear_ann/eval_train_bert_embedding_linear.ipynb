{
 "cells": [
  {
   "cell_type": "code",
   "execution_count": null,
   "metadata": {
    "colab": {
     "base_uri": "https://localhost:8080/"
    },
    "id": "W6qYM0DXBaMf",
    "outputId": "c54a04e9-de92-4d0f-ffad-9fa09ff69811"
   },
   "outputs": [],
   "source": [
    "from google.colab import drive\n",
    "drive.mount('/content/drive')"
   ]
  },
  {
   "cell_type": "code",
   "execution_count": null,
   "metadata": {
    "id": "XG6KsuFkCcxb"
   },
   "outputs": [],
   "source": [
    "import pandas as pd\n",
    "import numpy as np"
   ]
  },
  {
   "cell_type": "code",
   "execution_count": null,
   "metadata": {
    "id": "V1liTL0496a_"
   },
   "outputs": [],
   "source": [
    "from sklearn.metrics import classification_report"
   ]
  },
  {
   "cell_type": "code",
   "execution_count": null,
   "metadata": {
    "id": "NN0VfESCbioE"
   },
   "outputs": [],
   "source": [
    "from torch.utils.data import Dataset\n",
    "from torch.utils.data import DataLoader\n",
    "from torch.optim import Adam\n",
    "import torch"
   ]
  },
  {
   "cell_type": "code",
   "execution_count": null,
   "metadata": {
    "id": "xTeS4W-yf8-K"
   },
   "outputs": [],
   "source": [
    "from tqdm import tqdm"
   ]
  },
  {
   "cell_type": "markdown",
   "metadata": {},
   "source": [
    "# SEED"
   ]
  },
  {
   "cell_type": "code",
   "execution_count": null,
   "metadata": {},
   "outputs": [],
   "source": [
    "seed = 43"
   ]
  },
  {
   "cell_type": "markdown",
   "metadata": {},
   "source": [
    "# Data"
   ]
  },
  {
   "cell_type": "code",
   "execution_count": null,
   "metadata": {
    "id": "4GPyaOhwrhJp"
   },
   "outputs": [],
   "source": [
    "test_cases_data = pd.read_hdf('/content/drive/MyDrive/master_thesis/dataset_data/embedded_data/test_eval_cases_emb.h5', 'df')\n",
    "test_df = pd.read_hdf('/content/drive/MyDrive/master_thesis/dataset_data/embedded_data/test_eval_emb.h5', 'df')"
   ]
  },
  {
   "cell_type": "code",
   "execution_count": null,
   "metadata": {
    "id": "1etNrXvCbGIX"
   },
   "outputs": [],
   "source": [
    "class ExperimentDataset(Dataset):\n",
    "    def __init__(self, df):\n",
    "        super().__init__()\n",
    "        self.df = df\n",
    "        \n",
    "    def __len__(self):\n",
    "        return len(self.df)\n",
    "    \n",
    "    def __getitem__(self, index):\n",
    "        item = self.df.iloc[index]\n",
    "        inputs = np.concatenate([item['abstract_embedding'], item['ChallengeDescription_embedding']])\n",
    "        return torch.tensor(inputs), torch.tensor(item['label'])"
   ]
  },
  {
   "cell_type": "markdown",
   "metadata": {},
   "source": [
    "# Model"
   ]
  },
  {
   "cell_type": "code",
   "execution_count": null,
   "metadata": {
    "id": "P9QRRStKfYhj"
   },
   "outputs": [],
   "source": [
    "from torch import nn\n",
    "from torch import cat\n",
    "\n",
    "class Classifier(nn.Module):\n",
    "    def __init__(self, embedding_size=1536):\n",
    "        super().__init__()\n",
    "        self.dropout = nn.Dropout(0.2)\n",
    "        self.h_1 = nn.Linear(embedding_size, 512)\n",
    "        self.h_2 = nn.Linear(512, 128)\n",
    "        self.o = nn.Linear(128, 1)\n",
    "\n",
    "    def forward(self, input):\n",
    "        h1 = self.dropout(self.h_1(input))\n",
    "        h2 = self.dropout(self.h_2(h1))\n",
    "        return self.o(h2)"
   ]
  },
  {
   "cell_type": "code",
   "execution_count": null,
   "metadata": {
    "id": "gXTBKeNGjV0O"
   },
   "outputs": [],
   "source": [
    "def make_pred_for_eval(model, dataloader):\n",
    "  use_cuda = torch.cuda.is_available()\n",
    "  device = torch.device(\"cuda\" if use_cuda else \"cpu\")\n",
    "  if use_cuda:\n",
    "    model = model.cuda()\n",
    "\n",
    "  model.eval()\n",
    "  pred = []\n",
    "  with torch.no_grad():\n",
    "    for inputs, labels in tqdm(dataloader):\n",
    "        eval_label = labels.unsqueeze(1).to(device)\n",
    "        output = torch.sigmoid(model(inputs.float().to(device)))\n",
    "\n",
    "        pred.append(output.cpu().detach().numpy())\n",
    "  return pred"
   ]
  },
  {
   "cell_type": "code",
   "execution_count": null,
   "metadata": {
    "colab": {
     "base_uri": "https://localhost:8080/"
    },
    "id": "KKIjEXq6gZ5d",
    "outputId": "c655b746-9f14-471c-8db8-4523982acbf8"
   },
   "outputs": [],
   "source": [
    "model = Classifier()\n",
    "model.load_state_dict(torch.load(f\"/content/drive/MyDrive/master_thesis/bert_embedding_nn/linear/{seed}\"))\n",
    "model.eval()"
   ]
  },
  {
   "cell_type": "markdown",
   "metadata": {},
   "source": [
    "# Eval"
   ]
  },
  {
   "cell_type": "code",
   "execution_count": null,
   "metadata": {
    "id": "n3BaKqmskco8"
   },
   "outputs": [],
   "source": [
    "eval_df = test_df\n",
    "eval_ds = ExperimentDataset(eval_df)\n",
    "eval_dataloader = DataLoader(eval_ds, batch_size=16, shuffle=False)"
   ]
  },
  {
   "cell_type": "code",
   "execution_count": null,
   "metadata": {
    "id": "Fqnu7rkkmwIc"
   },
   "outputs": [],
   "source": [
    "preds = make_pred_for_eval(model, eval_dataloader)\n",
    "flattened_preds = np.concatenate(preds).ravel()"
   ]
  },
  {
   "cell_type": "code",
   "execution_count": null,
   "metadata": {
    "colab": {
     "base_uri": "https://localhost:8080/"
    },
    "id": "yEeKIk4--Ffa",
    "outputId": "57bb607e-0be1-4704-b8e8-17c5b32a72ea"
   },
   "outputs": [],
   "source": [
    "print(classification_report(eval_df['label'].tolist(), flattened_preds >= 0.5, digits=4))"
   ]
  }
 ],
 "metadata": {
  "accelerator": "GPU",
  "colab": {
   "provenance": []
  },
  "kernelspec": {
   "display_name": "Python 3 (ipykernel)",
   "language": "python",
   "name": "python3"
  },
  "language_info": {
   "codemirror_mode": {
    "name": "ipython",
    "version": 3
   },
   "file_extension": ".py",
   "mimetype": "text/x-python",
   "name": "python",
   "nbconvert_exporter": "python",
   "pygments_lexer": "ipython3",
   "version": "3.9.13"
  }
 },
 "nbformat": 4,
 "nbformat_minor": 4
}

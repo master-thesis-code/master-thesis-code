{
 "cells": [
  {
   "cell_type": "code",
   "execution_count": null,
   "metadata": {
    "colab": {
     "base_uri": "https://localhost:8080/"
    },
    "executionInfo": {
     "elapsed": 4707,
     "status": "ok",
     "timestamp": 1664886560857,
     "user": {
      "displayName": "Igor Pidik",
      "userId": "12606022177661543582"
     },
     "user_tz": -120
    },
    "id": "W6qYM0DXBaMf",
    "outputId": "e0082f4f-aa25-420e-a1bb-0b39dc6d0df2"
   },
   "outputs": [],
   "source": [
    "from google.colab import drive\n",
    "drive.mount('/content/drive')"
   ]
  },
  {
   "cell_type": "code",
   "execution_count": null,
   "metadata": {
    "id": "XG6KsuFkCcxb"
   },
   "outputs": [],
   "source": [
    "import pandas as pd\n",
    "import itertools\n",
    "import seaborn as sns"
   ]
  },
  {
   "cell_type": "code",
   "execution_count": null,
   "metadata": {
    "id": "PyO6Ri0a4rrC"
   },
   "outputs": [],
   "source": [
    "dataset = pd.read_csv('/content/drive/MyDrive/master_thesis/dataset_data/full_dataset.csv')"
   ]
  },
  {
   "cell_type": "code",
   "execution_count": null,
   "metadata": {
    "id": "9yj6tkUT5F-C"
   },
   "outputs": [],
   "source": [
    "len(dataset)"
   ]
  },
  {
   "cell_type": "code",
   "execution_count": null,
   "metadata": {
    "id": "ArD3YpfWeVd4"
   },
   "outputs": [],
   "source": [
    "dataset['label'] = dataset['type'].apply(lambda x: 'Associated paper' if x == 'associated_paper' else 'Irrelevant paper')"
   ]
  },
  {
   "cell_type": "code",
   "execution_count": null,
   "metadata": {
    "id": "Si12E0xx92fL"
   },
   "outputs": [],
   "source": [
    "def get_readable_label(x):\n",
    "  if x == 'associated_paper':\n",
    "    return 'Associated paper'\n",
    "  elif x == 'irrelevant_papers':\n",
    "    return 'Irrelevant paper'\n",
    "  else:\n",
    "    return 'Semi-relevant paper'"
   ]
  },
  {
   "cell_type": "code",
   "execution_count": null,
   "metadata": {
    "id": "Anor-ObhqRJU"
   },
   "outputs": [],
   "source": [
    "dataset['type_label'] = dataset['type'].apply(get_readable_label)"
   ]
  },
  {
   "cell_type": "code",
   "execution_count": null,
   "metadata": {
    "id": "Sse0k6DA8aH6"
   },
   "outputs": [],
   "source": [
    "counts_original_labels = dataset.groupby(['case_id', 'type_label']).count().rename(columns={'paper_id': 'paper_count'})"
   ]
  },
  {
   "cell_type": "code",
   "execution_count": null,
   "metadata": {
    "id": "Qhq3LSkEmRnq"
   },
   "outputs": [],
   "source": [
    "counts = dataset.groupby(['case_id', 'label']).count().rename(columns={'paper_id': 'paper_count'})"
   ]
  },
  {
   "cell_type": "code",
   "execution_count": null,
   "metadata": {
    "id": "YOCXQDLAMOjr"
   },
   "outputs": [],
   "source": [
    "dataset.groupby('case_id').count().describe()"
   ]
  },
  {
   "cell_type": "markdown",
   "metadata": {
    "id": "q_JofRUsZthg"
   },
   "source": [
    "Get avg number of associated papers per case"
   ]
  },
  {
   "cell_type": "code",
   "execution_count": null,
   "metadata": {
    "id": "HImXI54vEpBN"
   },
   "outputs": [],
   "source": [
    "dataset[dataset['type'] == 'associated_paper'].groupby('case_id').count().describe()"
   ]
  },
  {
   "cell_type": "code",
   "execution_count": null,
   "metadata": {
    "id": "_rPoWG3HMIyo"
   },
   "outputs": [],
   "source": [
    "dataset[dataset['type'] != 'associated_paper'].groupby('case_id').count().describe()"
   ]
  },
  {
   "cell_type": "code",
   "execution_count": null,
   "metadata": {
    "id": "_qVsK4EN8e_X"
   },
   "outputs": [],
   "source": [
    "ax = sns.displot(counts_original_labels, x=\"paper_count\", hue=\"type_2\", kind=\"kde\", fill=True)\n",
    "ax.set(xlabel='Paper count')\n",
    "ax.legend.set_title('Label')"
   ]
  },
  {
   "cell_type": "code",
   "execution_count": null,
   "metadata": {
    "id": "kzuLtv4fmYj_"
   },
   "outputs": [],
   "source": [
    "ax = sns.displot(counts, x=\"paper_count\", hue=\"label\", kind=\"kde\", fill=True)\n",
    "ax.set(xlabel='Paper count')\n",
    "ax.legend.set_title('Label')"
   ]
  }
 ],
 "metadata": {
  "colab": {
   "authorship_tag": "ABX9TyMTFdFBNLeXjtUpJHtp/yw9",
   "provenance": []
  },
  "kernelspec": {
   "display_name": "Python 3 (ipykernel)",
   "language": "python",
   "name": "python3"
  },
  "language_info": {
   "codemirror_mode": {
    "name": "ipython",
    "version": 3
   },
   "file_extension": ".py",
   "mimetype": "text/x-python",
   "name": "python",
   "nbconvert_exporter": "python",
   "pygments_lexer": "ipython3",
   "version": "3.9.13"
  }
 },
 "nbformat": 4,
 "nbformat_minor": 4
}

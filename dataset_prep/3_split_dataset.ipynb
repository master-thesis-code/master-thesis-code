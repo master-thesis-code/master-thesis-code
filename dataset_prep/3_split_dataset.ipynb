{
 "cells": [
  {
   "cell_type": "code",
   "execution_count": 2,
   "metadata": {
    "colab": {
     "base_uri": "https://localhost:8080/"
    },
    "executionInfo": {
     "elapsed": 24520,
     "status": "ok",
     "timestamp": 1669726267495,
     "user": {
      "displayName": "Igor Pidik",
      "userId": "12606022177661543582"
     },
     "user_tz": -60
    },
    "id": "W6qYM0DXBaMf",
    "outputId": "2483f760-90a1-453c-ba6a-4d1729004709"
   },
   "outputs": [
    {
     "name": "stdout",
     "output_type": "stream",
     "text": [
      "Mounted at /content/drive\n"
     ]
    }
   ],
   "source": [
    "from google.colab import drive\n",
    "drive.mount('/content/drive')"
   ]
  },
  {
   "cell_type": "code",
   "execution_count": 3,
   "metadata": {
    "executionInfo": {
     "elapsed": 1977,
     "status": "ok",
     "timestamp": 1669726269469,
     "user": {
      "displayName": "Igor Pidik",
      "userId": "12606022177661543582"
     },
     "user_tz": -60
    },
    "id": "d4lfdB79-nCH"
   },
   "outputs": [],
   "source": [
    "import pandas as pd\n",
    "from sklearn.model_selection import train_test_split\n",
    "import numpy as np"
   ]
  },
  {
   "cell_type": "code",
   "execution_count": 4,
   "metadata": {
    "executionInfo": {
     "elapsed": 5,
     "status": "ok",
     "timestamp": 1669726269470,
     "user": {
      "displayName": "Igor Pidik",
      "userId": "12606022177661543582"
     },
     "user_tz": -60
    },
    "id": "U02Tb4Q_aorj"
   },
   "outputs": [],
   "source": [
    "np.random.seed(42)"
   ]
  },
  {
   "cell_type": "code",
   "execution_count": 5,
   "metadata": {
    "executionInfo": {
     "elapsed": 447,
     "status": "ok",
     "timestamp": 1669726269913,
     "user": {
      "displayName": "Igor Pidik",
      "userId": "12606022177661543582"
     },
     "user_tz": -60
    },
    "id": "PyO6Ri0a4rrC"
   },
   "outputs": [],
   "source": [
    "dataset = pd.read_csv('/content/drive/MyDrive/master_thesis/dataset_data/full_dataset.csv')"
   ]
  },
  {
   "cell_type": "markdown",
   "metadata": {
    "id": "-fBxXz0oaxBc"
   },
   "source": [
    "# Split the data on case basis"
   ]
  },
  {
   "cell_type": "code",
   "execution_count": null,
   "metadata": {
    "id": "1ChMlu_l-i4K"
   },
   "outputs": [],
   "source": [
    "cases = pd.DataFrame(dataset['case_id'].unique(), columns=['case_id'])"
   ]
  },
  {
   "cell_type": "code",
   "execution_count": null,
   "metadata": {
    "id": "mZQTSZI09p1b"
   },
   "outputs": [],
   "source": [
    "train, test = train_test_split(cases, test_size=0.3, random_state=1337)\n",
    "val, test = train_test_split(test, test_size = 0.5, random_state=1337)"
   ]
  },
  {
   "cell_type": "code",
   "execution_count": null,
   "metadata": {
    "id": "WJobOrWvAQNX"
   },
   "outputs": [],
   "source": [
    "train_papers = pd.merge(dataset, train, on='case_id')[['paper_id', 'case_id', 'type']]"
   ]
  },
  {
   "cell_type": "code",
   "execution_count": null,
   "metadata": {
    "id": "FwRwx3NeAmoi"
   },
   "outputs": [],
   "source": [
    "dev_papers = pd.merge(dataset, val, on='case_id')[['paper_id', 'case_id', 'type']]"
   ]
  },
  {
   "cell_type": "code",
   "execution_count": null,
   "metadata": {
    "id": "T3aHzE1HAoua"
   },
   "outputs": [],
   "source": [
    "test_papers = pd.merge(dataset, test, on='case_id')[['paper_id', 'case_id', 'type']]"
   ]
  },
  {
   "cell_type": "markdown",
   "metadata": {
    "id": "92GY-fCSbcMu"
   },
   "source": [
    "# Make sure no sets are independent"
   ]
  },
  {
   "cell_type": "code",
   "execution_count": null,
   "metadata": {
    "id": "0NEpN2CJbz6D"
   },
   "outputs": [],
   "source": [
    "test_paper_ids = test_papers['paper_id'].unique()\n",
    "dev_paper_ids = dev_papers['paper_id'].unique()\n",
    "\n",
    "dev_papers = dev_papers[~dev_papers['paper_id'].isin(test_paper_ids)]\n",
    "\n",
    "train_papers = train_papers[~train_papers['paper_id'].isin(test_paper_ids)]\n",
    "train_papers = train_papers[~train_papers['paper_id'].isin(dev_paper_ids)]"
   ]
  },
  {
   "cell_type": "markdown",
   "metadata": {
    "id": "ZngOTrAjbarF"
   },
   "source": [
    "# Save"
   ]
  },
  {
   "cell_type": "code",
   "execution_count": null,
   "metadata": {
    "id": "KxlsKDUE_eUs"
   },
   "outputs": [],
   "source": [
    "train.to_csv('/content/drive/MyDrive/master_thesis/dataset_data/train/train_cases.csv')\n",
    "val.to_csv('/content/drive/MyDrive/master_thesis/dataset_data/dev/dev_cases.csv')\n",
    "test.to_csv('/content/drive/MyDrive/master_thesis/dataset_data/test/test_cases.csv')"
   ]
  },
  {
   "cell_type": "code",
   "execution_count": null,
   "metadata": {
    "id": "V0b__QfEArrv"
   },
   "outputs": [],
   "source": [
    "train_papers.to_csv('/content/drive/MyDrive/master_thesis/dataset_data/train/train_papers.csv')\n",
    "dev_papers.to_csv('/content/drive/MyDrive/master_thesis/dataset_data/dev/dev_papers.csv')\n",
    "test_papers.to_csv('/content/drive/MyDrive/master_thesis/dataset_data/test/test_papers.csv')"
   ]
  }
 ],
 "metadata": {
  "colab": {
   "authorship_tag": "ABX9TyMrfJLteuP2BzamTNTpO0ou",
   "provenance": []
  },
  "kernelspec": {
   "display_name": "Python 3 (ipykernel)",
   "language": "python",
   "name": "python3"
  },
  "language_info": {
   "codemirror_mode": {
    "name": "ipython",
    "version": 3
   },
   "file_extension": ".py",
   "mimetype": "text/x-python",
   "name": "python",
   "nbconvert_exporter": "python",
   "pygments_lexer": "ipython3",
   "version": "3.9.13"
  }
 },
 "nbformat": 4,
 "nbformat_minor": 4
}

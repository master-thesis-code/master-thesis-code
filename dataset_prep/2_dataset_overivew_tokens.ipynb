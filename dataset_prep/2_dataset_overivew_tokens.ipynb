{
 "cells": [
  {
   "cell_type": "code",
   "execution_count": null,
   "metadata": {
    "colab": {
     "base_uri": "https://localhost:8080/"
    },
    "executionInfo": {
     "elapsed": 17431,
     "status": "ok",
     "timestamp": 1664888571636,
     "user": {
      "displayName": "Igor Pidik",
      "userId": "12606022177661543582"
     },
     "user_tz": -120
    },
    "id": "W6qYM0DXBaMf",
    "outputId": "803265f1-d8f5-4350-ad1b-4b16b93c89e3"
   },
   "outputs": [
    {
     "name": "stdout",
     "output_type": "stream",
     "text": [
      "Mounted at /content/drive\n"
     ]
    }
   ],
   "source": [
    "from google.colab import drive\n",
    "drive.mount('/content/drive')"
   ]
  },
  {
   "cell_type": "code",
   "execution_count": null,
   "metadata": {
    "id": "XG6KsuFkCcxb"
   },
   "outputs": [],
   "source": [
    "import pandas as pd\n",
    "import itertools\n",
    "import matplotlib.pyplot as plt\n",
    "import ast\n",
    "import seaborn as sns"
   ]
  },
  {
   "cell_type": "markdown",
   "metadata": {
    "id": "oJAno0LWaWtK"
   },
   "source": [
    "# Get token distribution in papers"
   ]
  },
  {
   "cell_type": "code",
   "execution_count": null,
   "metadata": {
    "id": "0B3fj7PJFzUv"
   },
   "outputs": [],
   "source": [
    "papers = pd.read_csv('/content/drive/MyDrive/master_thesis/dataset_data/papers.csv')"
   ]
  },
  {
   "cell_type": "code",
   "execution_count": null,
   "metadata": {
    "id": "35JwMqnVGI1t"
   },
   "outputs": [],
   "source": [
    "papers['abstract_stemmed'] = papers['abstract_stemmed'].apply(ast.literal_eval)"
   ]
  },
  {
   "cell_type": "code",
   "execution_count": null,
   "metadata": {
    "id": "x-YFBHOWJE9-"
   },
   "outputs": [],
   "source": [
    "papers['type_nice'] = papers['type'].apply(lambda x: 'Associated paper' if x == 'associated_paper' else 'Irrelevant paper')"
   ]
  },
  {
   "cell_type": "code",
   "execution_count": null,
   "metadata": {
    "id": "hSqnG3HlF4K6"
   },
   "outputs": [],
   "source": [
    "papers['len'] = papers['abstract_stemmed'].apply(len)"
   ]
  },
  {
   "cell_type": "code",
   "execution_count": null,
   "metadata": {
    "id": "_Xl1TijjGrms"
   },
   "outputs": [],
   "source": [
    "papers['len'].describe()"
   ]
  },
  {
   "cell_type": "code",
   "execution_count": null,
   "metadata": {
    "id": "QVHnfSUfGRpW"
   },
   "outputs": [],
   "source": [
    "ax = sns.displot(papers, x=\"len\", hue=\"type_nice\", kind=\"kde\", fill=True)\n",
    "ax.set(xlabel='# of tokens')\n",
    "ax.legend.set_title('Label')\n",
    "plt.title(\"Distribution of numbers of tokens in paper abstracts\")"
   ]
  },
  {
   "cell_type": "code",
   "execution_count": null,
   "metadata": {
    "id": "SZUznf5JmZho"
   },
   "outputs": [],
   "source": [
    "ax = sns.displot(papers[papers['type'] == 'associated_paper'], x=\"len\", kind=\"kde\", fill=True)\n",
    "ax.set(xlabel='# of tokens')"
   ]
  },
  {
   "cell_type": "markdown",
   "metadata": {
    "id": "aJ71UDxmaZ9y"
   },
   "source": [
    "# Get token distribution in cases"
   ]
  },
  {
   "cell_type": "code",
   "execution_count": null,
   "metadata": {
    "id": "s1YOr3CdHERP"
   },
   "outputs": [],
   "source": [
    "cases = pd.read_csv('/content/drive/MyDrive/master_thesis/dataset_data/cases_data/cases_data_stemmed.csv')"
   ]
  },
  {
   "cell_type": "code",
   "execution_count": null,
   "metadata": {
    "id": "ibfk389oK7RH"
   },
   "outputs": [],
   "source": [
    "cases['ChallengeDescription_stemmed'] = cases['ChallengeDescription_stemmed'].apply(ast.literal_eval)"
   ]
  },
  {
   "cell_type": "code",
   "execution_count": null,
   "metadata": {
    "id": "2CzMVqXJLKe9"
   },
   "outputs": [],
   "source": [
    "cases['len'] = cases['ChallengeDescription_stemmed'].apply(len)"
   ]
  },
  {
   "cell_type": "code",
   "execution_count": null,
   "metadata": {
    "id": "fAx4oyDMK8JP"
   },
   "outputs": [],
   "source": [
    "cases['len'].describe()"
   ]
  },
  {
   "cell_type": "code",
   "execution_count": null,
   "metadata": {
    "id": "ttDAIz9BLQJF"
   },
   "outputs": [],
   "source": [
    "ax = sns.displot(cases, x=\"len\", kind=\"kde\", fill=True)\n",
    "ax.set(xlabel='# of tokens')\n",
    "plt.title(\"Distribution of numbers of tokens in challenge descriptions\")"
   ]
  }
 ],
 "metadata": {
  "colab": {
   "authorship_tag": "ABX9TyNSxGVIVaiAeMATNWD/QU1N",
   "provenance": []
  },
  "kernelspec": {
   "display_name": "Python 3 (ipykernel)",
   "language": "python",
   "name": "python3"
  },
  "language_info": {
   "codemirror_mode": {
    "name": "ipython",
    "version": 3
   },
   "file_extension": ".py",
   "mimetype": "text/x-python",
   "name": "python",
   "nbconvert_exporter": "python",
   "pygments_lexer": "ipython3",
   "version": "3.9.13"
  }
 },
 "nbformat": 4,
 "nbformat_minor": 4
}